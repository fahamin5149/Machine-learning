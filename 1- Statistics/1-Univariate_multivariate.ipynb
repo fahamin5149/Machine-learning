{
 "cells": [
  {
   "cell_type": "code",
   "execution_count": 22,
   "metadata": {
    "run_control": {
     "breakpoint": false
    }
   },
   "outputs": [
    {
     "name": "stdout",
     "output_type": "stream",
     "text": [
      "Numpy version:        1.24.3 (need at least 1.7.1)\n",
      "SciPy version:        1.10.1 (need at least 0.12.0)\n",
      "Pandas version:       1.5.3 (need at least 0.11.0)\n",
      "Mapltolib version:    3.7.1 (need at least 1.2.1)\n",
      "Scikit-Learn version: 1.3.0 (need at least 0.13.1)\n",
      "requests version:     2.32.3 (need at least 1.2.3)\n",
      "BeautifulSoup version:4.12.2 (need at least 4.0)\n",
      "Seaborn version:      0.12.2 (need at least 0.3.1)\n"
     ]
    }
   ],
   "source": [
    "#Run this notebook to check for the required packages for this course.\n",
    "\n",
    "\n",
    "\n",
    "# Numpy is a library for working with Arrays\n",
    "import numpy as np\n",
    "print (\"Numpy version:        {} (need at least 1.7.1)\".format(np.__version__))\n",
    "\n",
    "# SciPy implements many different numerical algorithms\n",
    "import scipy as sp\n",
    "print (\"SciPy version:        {} (need at least 0.12.0)\".format(sp.__version__))\n",
    "\n",
    "# Pandas makes working with data tables easier\n",
    "import pandas as pd\n",
    "print (\"Pandas version:       {} (need at least 0.11.0)\".format(pd.__version__))\n",
    "\n",
    "# Module for plotting\n",
    "import matplotlib.pyplot as plt\n",
    "print (\"Mapltolib version:    {} (need at least 1.2.1)\".format(matplotlib.__version__))\n",
    "\n",
    "# SciKit Learn implements several Machine Learning algorithms\n",
    "import sklearn\n",
    "print (\"Scikit-Learn version: {} (need at least 0.13.1)\".format(sklearn.__version__))\n",
    "\n",
    "# Requests is a library for getting data from the Web\n",
    "import requests\n",
    "print (\"requests version:     {} (need at least 1.2.3)\".format(requests.__version__))\n",
    "\n",
    "#BeautifulSoup is a library to parse HTML and XML documents\n",
    "import bs4\n",
    "print (\"BeautifulSoup version:{} (need at least 4.0)\".format(bs4.__version__))\n",
    "\n",
    "\n",
    "#Seaborn is a nice library for visualizations\n",
    "import seaborn\n",
    "print (\"Seaborn version:      {} (need at least 0.3.1)\".format(seaborn.__version__))\n"
   ]
  },
  {
   "cell_type": "code",
   "execution_count": null,
   "metadata": {
    "run_control": {
     "breakpoint": false
    }
   },
   "outputs": [],
   "source": [
    "#Download the IRIS dataset\n",
    "#\"!\" means run the bash (shell) command, if you are unable to download the data, go \n",
    "# to given link and manually download the data and copy it to your current assignment folder...\n",
    "!wget http://archive.ics.uci.edu/ml/machine-learning-databases/iris/iris.data"
   ]
  },
  {
   "cell_type": "code",
   "execution_count": 3,
   "metadata": {
    "run_control": {
     "breakpoint": false
    }
   },
   "outputs": [],
   "source": [
    "#import pandas and name this namespace as pd\n",
    "import pandas as pd"
   ]
  },
  {
   "cell_type": "code",
   "execution_count": 4,
   "metadata": {
    "run_control": {
     "breakpoint": false
    }
   },
   "outputs": [
    {
     "name": "stdout",
     "output_type": "stream",
     "text": [
      "       SepalLength  SepalWidth  PetalLength  PetalWidth\n",
      "count   149.000000  149.000000   149.000000  149.000000\n",
      "mean      5.848322    3.051007     3.774497    1.205369\n",
      "std       0.828594    0.433499     1.759651    0.761292\n",
      "min       4.300000    2.000000     1.000000    0.100000\n",
      "25%       5.100000    2.800000     1.600000    0.300000\n",
      "50%       5.800000    3.000000     4.400000    1.300000\n",
      "75%       6.400000    3.300000     5.100000    1.800000\n",
      "max       7.900000    4.400000     6.900000    2.500000\n"
     ]
    }
   ],
   "source": [
    "#Load data and name the columns\n",
    "data=pd.read_csv('iris.data.txt')\n",
    "data.columns=['SepalLength','SepalWidth','PetalLength','PetalWidth','Class']\n",
    "print (data.describe())"
   ]
  },
  {
   "cell_type": "code",
   "execution_count": 34,
   "metadata": {},
   "outputs": [
    {
     "data": {
      "text/html": [
       "<div>\n",
       "<style scoped>\n",
       "    .dataframe tbody tr th:only-of-type {\n",
       "        vertical-align: middle;\n",
       "    }\n",
       "\n",
       "    .dataframe tbody tr th {\n",
       "        vertical-align: top;\n",
       "    }\n",
       "\n",
       "    .dataframe thead th {\n",
       "        text-align: right;\n",
       "    }\n",
       "</style>\n",
       "<table border=\"1\" class=\"dataframe\">\n",
       "  <thead>\n",
       "    <tr style=\"text-align: right;\">\n",
       "      <th></th>\n",
       "      <th>SepalLength</th>\n",
       "      <th>SepalWidth</th>\n",
       "      <th>PetalLength</th>\n",
       "      <th>PetalWidth</th>\n",
       "      <th>Class</th>\n",
       "    </tr>\n",
       "  </thead>\n",
       "  <tbody>\n",
       "    <tr>\n",
       "      <th>0</th>\n",
       "      <td>4.9</td>\n",
       "      <td>3.0</td>\n",
       "      <td>1.4</td>\n",
       "      <td>0.2</td>\n",
       "      <td>Iris-setosa</td>\n",
       "    </tr>\n",
       "    <tr>\n",
       "      <th>1</th>\n",
       "      <td>4.7</td>\n",
       "      <td>3.2</td>\n",
       "      <td>1.3</td>\n",
       "      <td>0.2</td>\n",
       "      <td>Iris-setosa</td>\n",
       "    </tr>\n",
       "    <tr>\n",
       "      <th>2</th>\n",
       "      <td>4.6</td>\n",
       "      <td>3.1</td>\n",
       "      <td>1.5</td>\n",
       "      <td>0.2</td>\n",
       "      <td>Iris-setosa</td>\n",
       "    </tr>\n",
       "    <tr>\n",
       "      <th>3</th>\n",
       "      <td>5.0</td>\n",
       "      <td>3.6</td>\n",
       "      <td>1.4</td>\n",
       "      <td>0.2</td>\n",
       "      <td>Iris-setosa</td>\n",
       "    </tr>\n",
       "    <tr>\n",
       "      <th>4</th>\n",
       "      <td>5.4</td>\n",
       "      <td>3.9</td>\n",
       "      <td>1.7</td>\n",
       "      <td>0.4</td>\n",
       "      <td>Iris-setosa</td>\n",
       "    </tr>\n",
       "    <tr>\n",
       "      <th>...</th>\n",
       "      <td>...</td>\n",
       "      <td>...</td>\n",
       "      <td>...</td>\n",
       "      <td>...</td>\n",
       "      <td>...</td>\n",
       "    </tr>\n",
       "    <tr>\n",
       "      <th>144</th>\n",
       "      <td>6.7</td>\n",
       "      <td>3.0</td>\n",
       "      <td>5.2</td>\n",
       "      <td>2.3</td>\n",
       "      <td>Iris-virginica</td>\n",
       "    </tr>\n",
       "    <tr>\n",
       "      <th>145</th>\n",
       "      <td>6.3</td>\n",
       "      <td>2.5</td>\n",
       "      <td>5.0</td>\n",
       "      <td>1.9</td>\n",
       "      <td>Iris-virginica</td>\n",
       "    </tr>\n",
       "    <tr>\n",
       "      <th>146</th>\n",
       "      <td>6.5</td>\n",
       "      <td>3.0</td>\n",
       "      <td>5.2</td>\n",
       "      <td>2.0</td>\n",
       "      <td>Iris-virginica</td>\n",
       "    </tr>\n",
       "    <tr>\n",
       "      <th>147</th>\n",
       "      <td>6.2</td>\n",
       "      <td>3.4</td>\n",
       "      <td>5.4</td>\n",
       "      <td>2.3</td>\n",
       "      <td>Iris-virginica</td>\n",
       "    </tr>\n",
       "    <tr>\n",
       "      <th>148</th>\n",
       "      <td>5.9</td>\n",
       "      <td>3.0</td>\n",
       "      <td>5.1</td>\n",
       "      <td>1.8</td>\n",
       "      <td>Iris-virginica</td>\n",
       "    </tr>\n",
       "  </tbody>\n",
       "</table>\n",
       "<p>149 rows × 5 columns</p>\n",
       "</div>"
      ],
      "text/plain": [
       "     SepalLength  SepalWidth  PetalLength  PetalWidth           Class\n",
       "0            4.9         3.0          1.4         0.2     Iris-setosa\n",
       "1            4.7         3.2          1.3         0.2     Iris-setosa\n",
       "2            4.6         3.1          1.5         0.2     Iris-setosa\n",
       "3            5.0         3.6          1.4         0.2     Iris-setosa\n",
       "4            5.4         3.9          1.7         0.4     Iris-setosa\n",
       "..           ...         ...          ...         ...             ...\n",
       "144          6.7         3.0          5.2         2.3  Iris-virginica\n",
       "145          6.3         2.5          5.0         1.9  Iris-virginica\n",
       "146          6.5         3.0          5.2         2.0  Iris-virginica\n",
       "147          6.2         3.4          5.4         2.3  Iris-virginica\n",
       "148          5.9         3.0          5.1         1.8  Iris-virginica\n",
       "\n",
       "[149 rows x 5 columns]"
      ]
     },
     "execution_count": 34,
     "metadata": {},
     "output_type": "execute_result"
    }
   ],
   "source": [
    "data"
   ]
  },
  {
   "cell_type": "code",
   "execution_count": 38,
   "metadata": {
    "run_control": {
     "breakpoint": false
    }
   },
   "outputs": [
    {
     "name": "stdout",
     "output_type": "stream",
     "text": [
      "PetalLength= [1.4, 1.3, 1.5, 1.4, 1.7, 1.4, 1.5, 1.4, 1.5, 1.5, 1.6, 1.4, 1.1, 1.2, 1.5, 1.3, 1.4, 1.7, 1.5, 1.7, 1.5, 1.0, 1.7, 1.9, 1.6, 1.6, 1.5, 1.4, 1.6, 1.6, 1.5, 1.5, 1.4, 1.5, 1.2, 1.3, 1.5, 1.3, 1.5, 1.3, 1.3, 1.3, 1.6, 1.9, 1.4, 1.6, 1.4, 1.5, 1.4, 4.7, 4.5, 4.9, 4.0, 4.6, 4.5, 4.7, 3.3, 4.6, 3.9, 3.5, 4.2, 4.0, 4.7, 3.6, 4.4, 4.5, 4.1, 4.5, 3.9, 4.8, 4.0, 4.9, 4.7, 4.3, 4.4, 4.8, 5.0, 4.5, 3.5, 3.8, 3.7, 3.9, 5.1, 4.5, 4.5, 4.7, 4.4, 4.1, 4.0, 4.4, 4.6, 4.0, 3.3, 4.2, 4.2, 4.2, 4.3, 3.0, 4.1, 6.0, 5.1, 5.9, 5.6, 5.8, 6.6, 4.5, 6.3, 5.8, 6.1, 5.1, 5.3, 5.5, 5.0, 5.1, 5.3, 5.5, 6.7, 6.9, 5.0, 5.7, 4.9, 6.7, 4.9, 5.7, 6.0, 4.8, 4.9, 5.6, 5.8, 6.1, 6.4, 5.6, 5.1, 5.6, 6.1, 5.6, 5.5, 4.8, 5.4, 5.6, 5.1, 5.1, 5.9, 5.7, 5.2, 5.0, 5.2, 5.4, 5.1]\n",
      "PetalWidth= [0.2, 0.2, 0.2, 0.2, 0.4, 0.3, 0.2, 0.2, 0.1, 0.2, 0.2, 0.1, 0.1, 0.2, 0.4, 0.4, 0.3, 0.3, 0.3, 0.2, 0.4, 0.2, 0.5, 0.2, 0.2, 0.4, 0.2, 0.2, 0.2, 0.2, 0.4, 0.1, 0.2, 0.1, 0.2, 0.2, 0.1, 0.2, 0.2, 0.3, 0.3, 0.2, 0.6, 0.4, 0.3, 0.2, 0.2, 0.2, 0.2, 1.4, 1.5, 1.5, 1.3, 1.5, 1.3, 1.6, 1.0, 1.3, 1.4, 1.0, 1.5, 1.0, 1.4, 1.3, 1.4, 1.5, 1.0, 1.5, 1.1, 1.8, 1.3, 1.5, 1.2, 1.3, 1.4, 1.4, 1.7, 1.5, 1.0, 1.1, 1.0, 1.2, 1.6, 1.5, 1.6, 1.5, 1.3, 1.3, 1.3, 1.2, 1.4, 1.2, 1.0, 1.3, 1.2, 1.3, 1.3, 1.1, 1.3, 2.5, 1.9, 2.1, 1.8, 2.2, 2.1, 1.7, 1.8, 1.8, 2.5, 2.0, 1.9, 2.1, 2.0, 2.4, 2.3, 1.8, 2.2, 2.3, 1.5, 2.3, 2.0, 2.0, 1.8, 2.1, 1.8, 1.8, 1.8, 2.1, 1.6, 1.9, 2.0, 2.2, 1.5, 1.4, 2.3, 2.4, 1.8, 1.8, 2.1, 2.4, 2.3, 1.9, 2.3, 2.5, 2.3, 1.9, 2.0, 2.3, 1.8]\n"
     ]
    }
   ],
   "source": [
    "#Code for generating data....\n",
    "datalist=[] #create an empty list\n",
    "# data list is a list of two elements, where index=0 contains data corresponding to petal \n",
    "# length and index=1 contains data corresponding to petal width\n",
    "datalist.append(list(data['PetalLength'].dropna()))\n",
    "datalist.append(list(data['PetalWidth'].dropna()))\n",
    "datalist.append(list(data['SepalLength'].dropna()))\n",
    "datalist.append(list(data['SepalWidth'].dropna()))\n",
    "\n",
    "print (\"PetalLength=\", datalist[0])\n",
    "print (\"PetalWidth=\", datalist[1])\n",
    "\n",
    "#This and above code are both same...\n",
    "# datalist=[0]*2#create a list of 2 elements\n",
    "# datalist[0]=(list(data['PetalLength'].dropna()))\n",
    "# datalist[1]=(list(data['PetalWidth'].dropna()))\n",
    "#data list is a list of two elements, where index=0 contains data corresponding to petal \n",
    "# length and index=1 contains data corresponding to petal width\n",
    "# print(\"PetalLength=\", datalist[0])\n",
    "# print(\"PetalWidth=\", datalist[1])"
   ]
  },
  {
   "cell_type": "markdown",
   "metadata": {},
   "source": [
    "*In all the tasks given below use the list variable `datalist` (defined above) to answer all the questions.*\n",
    "\n",
    "#### Task1\n",
    "----------------\n",
    "Write code to find the mean and variance of the both the attributes vector (petal length and petal Width) "
   ]
  },
  {
   "cell_type": "code",
   "execution_count": 7,
   "metadata": {
    "run_control": {
     "breakpoint": false
    }
   },
   "outputs": [
    {
     "name": "stdout",
     "output_type": "stream",
     "text": [
      "The mean of petal length is 3.7744966442953043\n",
      "The mean of petal width is 1.2053691275167793\n",
      "The variance of petal length is 3.0755911895860546\n",
      "The variance of petal width is 0.5756758704562863\n"
     ]
    }
   ],
   "source": [
    "#Write your code here\n",
    "sum_of_petal_length=0\n",
    "sum_of_petal_width=0\n",
    "len_of_petal_length=0\n",
    "len_of_petal_width=0\n",
    "\n",
    "# Mean of petal length and petal width\n",
    "for count in datalist[0]:\n",
    "    sum_of_petal_length+=count\n",
    "    len_of_petal_length+=1\n",
    "\n",
    "for count in datalist[1]:\n",
    "    sum_of_petal_width+=count\n",
    "    len_of_petal_width+=1\n",
    "\n",
    "mean_of_petal_length= sum_of_petal_length/len_of_petal_length\n",
    "mean_of_petal_width= sum_of_petal_width/len_of_petal_width\n",
    "\n",
    "print(f\"The mean of petal length is {mean_of_petal_length}\")\n",
    "print(f\"The mean of petal width is {mean_of_petal_width}\")\n",
    "\n",
    "# Variance is a statistical measurement of the spread between numbers in a data set\n",
    "# Variance is a measure of how much the petal lengths in your dataset are spread out from the mean.\n",
    "# variance of petal length and width\n",
    "\n",
    "# variance for petal length\n",
    "numerator_for_petal_length=[]\n",
    "for element in datalist[0]:\n",
    "    x_xbar= element-mean_of_petal_length\n",
    "    x_xbar_square= x_xbar**2\n",
    "    numerator_for_petal_length.append(x_xbar_square)\n",
    "\n",
    "sum_for_var1=0\n",
    "for elements in numerator_for_petal_length:\n",
    "    sum_for_var1+=elements\n",
    "    \n",
    "var1= sum_for_var1/len_of_petal_length\n",
    "\n",
    "\n",
    "# variance for petal width\n",
    "numerator_for_petal_width=[]\n",
    "for element in datalist[1]:\n",
    "    x_xbar= element-mean_of_petal_width\n",
    "    x_xbar_square= x_xbar**2\n",
    "    numerator_for_petal_width.append(x_xbar_square)\n",
    "    \n",
    "sum_for_var2=0\n",
    "for elements in numerator_for_petal_width:\n",
    "    sum_for_var2+=elements\n",
    "    \n",
    "var2= sum_for_var2/len_of_petal_width\n",
    "\n",
    "print(f\"The variance of petal length is {var1}\")\n",
    "print(f\"The variance of petal width is {var2}\")"
   ]
  },
  {
   "cell_type": "markdown",
   "metadata": {},
   "source": [
    "#### Task2\n",
    "----------------\n",
    "Write code to unit normalize both (feature) vectors and compute the cosine similarity among them. Please comment does it make sense to compute the cosine similarity among the feature vectors.\n",
    "\n",
    "\n",
    "Normalization in statistics refers to adjusting values measured on different scales to a common scale, often for comparative analysis or aggregating.\n",
    "\n",
    "unit normalization transforms any vector into a standardized form with a length of 1, allowing for clearer analysis and simpler calculations while retaining its directional properties."
   ]
  },
  {
   "cell_type": "code",
   "execution_count": 8,
   "metadata": {},
   "outputs": [],
   "source": [
    "def normalization(vector, mag):\n",
    "    newlist=[]\n",
    "    for i in vector:\n",
    "        value= i/mag\n",
    "        newlist.append(value)\n",
    "    \n",
    "    return newlist"
   ]
  },
  {
   "cell_type": "code",
   "execution_count": 9,
   "metadata": {
    "run_control": {
     "breakpoint": false
    }
   },
   "outputs": [
    {
     "name": "stdout",
     "output_type": "stream",
     "text": [
      "PetalLength= [0.027556919535325703, 0.0255885681399453, 0.029525270930706112, 0.027556919535325703, 0.03346197372146693, 0.027556919535325703, 0.029525270930706112, 0.027556919535325703, 0.029525270930706112, 0.029525270930706112, 0.031493622326086525, 0.027556919535325703, 0.021651865349184486, 0.023620216744564892, 0.029525270930706112, 0.0255885681399453, 0.027556919535325703, 0.03346197372146693, 0.029525270930706112, 0.03346197372146693, 0.029525270930706112, 0.019683513953804077, 0.03346197372146693, 0.037398676512227745, 0.031493622326086525, 0.031493622326086525, 0.029525270930706112, 0.027556919535325703, 0.031493622326086525, 0.031493622326086525, 0.029525270930706112, 0.029525270930706112, 0.027556919535325703, 0.029525270930706112, 0.023620216744564892, 0.0255885681399453, 0.029525270930706112, 0.0255885681399453, 0.029525270930706112, 0.0255885681399453, 0.0255885681399453, 0.0255885681399453, 0.031493622326086525, 0.037398676512227745, 0.027556919535325703, 0.031493622326086525, 0.027556919535325703, 0.029525270930706112, 0.027556919535325703, 0.09251251558287917, 0.08857581279211835, 0.09644921837363998, 0.07873405581521631, 0.09054416418749874, 0.08857581279211835, 0.09251251558287917, 0.06495559604755345, 0.09054416418749874, 0.07676570441983589, 0.06889229883831427, 0.08267075860597713, 0.07873405581521631, 0.09251251558287917, 0.07086065023369467, 0.08660746139673794, 0.08857581279211835, 0.08070240721059671, 0.08857581279211835, 0.07676570441983589, 0.09448086697825957, 0.07873405581521631, 0.09644921837363998, 0.09251251558287917, 0.08463911000135753, 0.08660746139673794, 0.09448086697825957, 0.09841756976902039, 0.08857581279211835, 0.06889229883831427, 0.07479735302445549, 0.07282900162907509, 0.07676570441983589, 0.10038592116440077, 0.08857581279211835, 0.08857581279211835, 0.09251251558287917, 0.08660746139673794, 0.08070240721059671, 0.07873405581521631, 0.08660746139673794, 0.09054416418749874, 0.07873405581521631, 0.06495559604755345, 0.08267075860597713, 0.08267075860597713, 0.08267075860597713, 0.08463911000135753, 0.059050541861412224, 0.08070240721059671, 0.11810108372282445, 0.10038592116440077, 0.11613273232744406, 0.11022767814130281, 0.11416438093206363, 0.1299111920951069, 0.08857581279211835, 0.12400613790896567, 0.11416438093206363, 0.12006943511820485, 0.10038592116440077, 0.10432262395516159, 0.10825932674592241, 0.09841756976902039, 0.10038592116440077, 0.10432262395516159, 0.10825932674592241, 0.1318795434904873, 0.13581624628124814, 0.09841756976902039, 0.11219602953668324, 0.09644921837363998, 0.1318795434904873, 0.09644921837363998, 0.11219602953668324, 0.11810108372282445, 0.09448086697825957, 0.09644921837363998, 0.11022767814130281, 0.11416438093206363, 0.12006943511820485, 0.1259744893043461, 0.11022767814130281, 0.10038592116440077, 0.11022767814130281, 0.12006943511820485, 0.11022767814130281, 0.10825932674592241, 0.09448086697825957, 0.10629097535054202, 0.11022767814130281, 0.10038592116440077, 0.10038592116440077, 0.11613273232744406, 0.11219602953668324, 0.1023542725597812, 0.09841756976902039, 0.1023542725597812, 0.10629097535054202, 0.10038592116440077]\n",
      "PetalWidth= [0.011503755870435523, 0.011503755870435523, 0.011503755870435523, 0.011503755870435523, 0.023007511740871046, 0.017255633805653283, 0.011503755870435523, 0.011503755870435523, 0.005751877935217762, 0.011503755870435523, 0.011503755870435523, 0.005751877935217762, 0.005751877935217762, 0.011503755870435523, 0.023007511740871046, 0.023007511740871046, 0.017255633805653283, 0.017255633805653283, 0.017255633805653283, 0.011503755870435523, 0.023007511740871046, 0.011503755870435523, 0.028759389676088806, 0.011503755870435523, 0.011503755870435523, 0.023007511740871046, 0.011503755870435523, 0.011503755870435523, 0.011503755870435523, 0.011503755870435523, 0.023007511740871046, 0.005751877935217762, 0.011503755870435523, 0.005751877935217762, 0.011503755870435523, 0.011503755870435523, 0.005751877935217762, 0.011503755870435523, 0.011503755870435523, 0.017255633805653283, 0.017255633805653283, 0.011503755870435523, 0.034511267611306566, 0.023007511740871046, 0.017255633805653283, 0.011503755870435523, 0.011503755870435523, 0.011503755870435523, 0.011503755870435523, 0.08052629109304865, 0.08627816902826642, 0.08627816902826642, 0.0747744131578309, 0.08627816902826642, 0.0747744131578309, 0.09203004696348419, 0.05751877935217761, 0.0747744131578309, 0.08052629109304865, 0.05751877935217761, 0.08627816902826642, 0.05751877935217761, 0.08052629109304865, 0.0747744131578309, 0.08052629109304865, 0.08627816902826642, 0.05751877935217761, 0.08627816902826642, 0.06327065728739538, 0.1035338028339197, 0.0747744131578309, 0.08627816902826642, 0.06902253522261313, 0.0747744131578309, 0.08052629109304865, 0.08052629109304865, 0.09778192489870194, 0.08627816902826642, 0.05751877935217761, 0.06327065728739538, 0.05751877935217761, 0.06902253522261313, 0.09203004696348419, 0.08627816902826642, 0.09203004696348419, 0.08627816902826642, 0.0747744131578309, 0.0747744131578309, 0.0747744131578309, 0.06902253522261313, 0.08052629109304865, 0.06902253522261313, 0.05751877935217761, 0.0747744131578309, 0.06902253522261313, 0.0747744131578309, 0.0747744131578309, 0.06327065728739538, 0.0747744131578309, 0.14379694838044402, 0.10928568076913746, 0.12078943663957299, 0.1035338028339197, 0.12654131457479076, 0.12078943663957299, 0.09778192489870194, 0.1035338028339197, 0.1035338028339197, 0.14379694838044402, 0.11503755870435523, 0.10928568076913746, 0.12078943663957299, 0.11503755870435523, 0.13804507044522626, 0.13229319251000848, 0.1035338028339197, 0.12654131457479076, 0.13229319251000848, 0.08627816902826642, 0.13229319251000848, 0.11503755870435523, 0.11503755870435523, 0.1035338028339197, 0.12078943663957299, 0.1035338028339197, 0.1035338028339197, 0.1035338028339197, 0.12078943663957299, 0.09203004696348419, 0.10928568076913746, 0.11503755870435523, 0.12654131457479076, 0.08627816902826642, 0.08052629109304865, 0.13229319251000848, 0.13804507044522626, 0.1035338028339197, 0.1035338028339197, 0.12078943663957299, 0.13804507044522626, 0.13229319251000848, 0.10928568076913746, 0.13229319251000848, 0.14379694838044402, 0.13229319251000848, 0.10928568076913746, 0.11503755870435523, 0.13229319251000848, 0.1035338028339197]\n"
     ]
    }
   ],
   "source": [
    "def magnitude(list_for_mag):\n",
    "    sum_for_mag=0\n",
    "    \n",
    "    for i in list_for_mag:\n",
    "        value= i**2\n",
    "        sum_for_mag+=value\n",
    "    \n",
    "    sum_for_mag=sum_for_mag**(1/2)\n",
    "    return sum_for_mag\n",
    "    \n",
    "magnitude_petal_lenth=magnitude(datalist[0])\n",
    "normalized_petal_lenth=normalization(datalist[0], magnitude_petal_lenth)\n",
    "\n",
    "magnitude_petal_width=magnitude(datalist[1])\n",
    "normalized_petal_width=normalization(datalist[1], magnitude_petal_width)\n",
    "\n",
    "print (\"PetalLength=\", normalized_petal_lenth)\n",
    "print (\"PetalWidth=\", normalized_petal_width)"
   ]
  },
  {
   "cell_type": "code",
   "execution_count": 10,
   "metadata": {},
   "outputs": [],
   "source": [
    "def dot_product(vec1, vec2):\n",
    "    result = 0\n",
    "    for a, b in zip(vec1, vec2):\n",
    "        result += a * b\n",
    "    \n",
    "    return result"
   ]
  },
  {
   "cell_type": "code",
   "execution_count": 11,
   "metadata": {},
   "outputs": [
    {
     "name": "stdout",
     "output_type": "stream",
     "text": [
      "cosine similarity 0.9835062305846587\n"
     ]
    }
   ],
   "source": [
    "dot_prod= dot_product(datalist[0],datalist[1])\n",
    "\n",
    "magnitude_petal_lenth=magnitude(datalist[0])\n",
    "magnitude_petal_width=magnitude(datalist[1])\n",
    "\n",
    "cosine_similarity= dot_prod/(magnitude_petal_lenth*magnitude_petal_width)\n",
    "print(f\"cosine similarity {cosine_similarity}\")"
   ]
  },
  {
   "cell_type": "markdown",
   "metadata": {},
   "source": [
    "#### Task3: Univariate Analysis\n",
    "----------------\n",
    "Lets model the petal length as a univariate bernoulli random variable by categorizing the petal length as short(< 4.9cm) and long(>=4.9cm). Write the code for finding the probability of a short petal length flower."
   ]
  },
  {
   "cell_type": "code",
   "execution_count": 12,
   "metadata": {
    "run_control": {
     "breakpoint": false
    }
   },
   "outputs": [
    {
     "name": "stdout",
     "output_type": "stream",
     "text": [
      "The probability of short petal length flower is 0.6577181208053692\n"
     ]
    }
   ],
   "source": [
    "short_pl = []\n",
    "long_pl = []\n",
    "length=0\n",
    "\n",
    "sumforshort=0\n",
    "sumforlong=0\n",
    "\n",
    "for i in datalist[0]:\n",
    "    length+=1\n",
    "    if i < 4.9:\n",
    "        sumforshort+=1\n",
    "        short_pl.append(i)\n",
    "    else:\n",
    "        sumforlong+=1\n",
    "        long_pl.append(i)\n",
    "\n",
    "prob_for_short=sumforshort/length \n",
    "print(f\"The probability of short petal length flower is {prob_for_short}\")"
   ]
  },
  {
   "cell_type": "markdown",
   "metadata": {},
   "source": [
    "#### Task4: Univariate Analysis\n",
    "----------------\n",
    "Lets consider that we randomly choose 20 flower, whats the probability that 15 among them will be short petal lenght ones ?"
   ]
  },
  {
   "cell_type": "code",
   "execution_count": 13,
   "metadata": {
    "run_control": {
     "breakpoint": false
    }
   },
   "outputs": [
    {
     "name": "stdout",
     "output_type": "stream",
     "text": [
      "Probability: 0.1358\n"
     ]
    }
   ],
   "source": [
    "import math\n",
    "# using binomial\n",
    "n=20\n",
    "k= 15\n",
    "# prob_for_short\n",
    "\n",
    "# finding binomial coefficent\n",
    "binomial_coefficient = math.factorial(n) / (math.factorial(k) * math.factorial(n - k))\n",
    "\n",
    "probability = binomial_coefficient*(prob_for_short**k)*((1-prob_for_short)**(n-k))\n",
    "print(f\"Probability: {probability:.4f}\")"
   ]
  },
  {
   "cell_type": "markdown",
   "metadata": {},
   "source": [
    "#### Task5: Univariate Analysis\n",
    "----------------\n",
    "Lets model the petal Width as a univariate Bernoulli random variable by categorizing the petal width as short(< 1.6cm) and long(>=1.6cm). Write the code for finding the probability of a short petal width flower."
   ]
  },
  {
   "cell_type": "code",
   "execution_count": 14,
   "metadata": {
    "run_control": {
     "breakpoint": false
    }
   },
   "outputs": [
    {
     "name": "stdout",
     "output_type": "stream",
     "text": [
      "The probability of short petal width flower is 0.6510067114093959\n"
     ]
    }
   ],
   "source": [
    "short_pw = []\n",
    "long_pw = []\n",
    "length=0\n",
    "\n",
    "sumforshort=0\n",
    "sumforlong=0\n",
    "\n",
    "for i in datalist[1]:\n",
    "    length+=1\n",
    "    if i < 1.6:\n",
    "        sumforshort+=1\n",
    "        short_pw.append(i)\n",
    "    else:\n",
    "        sumforlong+=1\n",
    "        long_pw.append(i)\n",
    "\n",
    "prob_for_short=sumforshort/length \n",
    "print(f\"The probability of short petal width flower is {prob_for_short}\")"
   ]
  },
  {
   "cell_type": "markdown",
   "metadata": {},
   "source": [
    "#### Task6: Univariate Analysis\n",
    "----------------\n",
    "Lets model the petal length as a univariate continuous Gaussian random variable. What is the probability of seeing a flower with the petal lenght in the range $\\in [5.6,\\; 5.7]$. Recall that a gaussian pdf is\n",
    "\n",
    " . Recall that a gaussian pdf is\n",
    "$$f(x) = \\frac{1}{\\sigma \\sqrt{2\\pi} } e^{ -\\frac{(x-\\mu)^2}{2\\sigma^2} }$$\n",
    "\n",
    "- x is the variable,\n",
    "- μ is the mean,\n",
    "- σ is the std,\n",
    "- e is Euler's number"
   ]
  },
  {
   "cell_type": "markdown",
   "metadata": {},
   "source": [
    "The expansion of \\( e^x \\) can be written as:\n",
    "\n",
    "\n",
    "$$e^x = \\sum_{n=0}^{\\infty} \\frac{x^n}{n!} = 1 + \\frac{x}{1!} + \\frac{x^2}{2!} + \\frac{x^3}{3!} + \\dots$$\n"
   ]
  },
  {
   "cell_type": "code",
   "execution_count": 15,
   "metadata": {},
   "outputs": [],
   "source": [
    "def exp(x, terms=100):\n",
    "    result = 1.0 \n",
    "    factorial = 1.0\n",
    "    \n",
    "    for n in range(1, terms):\n",
    "        factorial *= n\n",
    "        result += (x ** n) / factorial\n",
    "    \n",
    "    return result"
   ]
  },
  {
   "cell_type": "code",
   "execution_count": 16,
   "metadata": {},
   "outputs": [],
   "source": [
    "def pdf(value, mean, std, var):\n",
    "    x= -((value- mean)**2)/(2*var)\n",
    "    value= exp(x)\n",
    "    final_val= (value)/ (std*((2*3.14)**0.5))\n",
    "    return final_val\n",
    "    "
   ]
  },
  {
   "cell_type": "code",
   "execution_count": 17,
   "metadata": {
    "run_control": {
     "breakpoint": false
    }
   },
   "outputs": [
    {
     "data": {
      "text/plain": [
       "0.012844960891011966"
      ]
     },
     "execution_count": 17,
     "metadata": {},
     "output_type": "execute_result"
    }
   ],
   "source": [
    "std= var1**(1/2)\n",
    "demoninator= std*((2*3.14)**(1/2))\n",
    "\n",
    "lower_pdf= pdf(5.6, mean_of_petal_length, std, var1)\n",
    "upper_pdf= pdf(5.7, mean_of_petal_length, std, var1)\n",
    "\n",
    "width= 5.7-5.6\n",
    "probability= (lower_pdf+upper_pdf)/2*width\n",
    "\n",
    "probability"
   ]
  },
  {
   "cell_type": "markdown",
   "metadata": {},
   "source": [
    "#### Task7: Univariate Analysis\n",
    "----------------\n",
    "Lets model the petal length as a univariate continuous Gaussian random variable. What is the probability of seeing a flower with the petal lenght in the range $\\in [5.6,\\; 5.7]$. Recall that a gaussian pdf is"
   ]
  },
  {
   "cell_type": "code",
   "execution_count": 18,
   "metadata": {
    "run_control": {
     "breakpoint": false
    }
   },
   "outputs": [
    {
     "data": {
      "text/plain": [
       "0.012844960891011966"
      ]
     },
     "execution_count": 18,
     "metadata": {},
     "output_type": "execute_result"
    }
   ],
   "source": [
    "std= var1**(1/2)\n",
    "demoninator= std*((2*3.14)**(1/2))\n",
    "\n",
    "lower_pdf= pdf(5.6, mean_of_petal_length, std, var1)\n",
    "upper_pdf= pdf(5.7, mean_of_petal_length, std, var1)\n",
    "\n",
    "width= 5.7-5.6\n",
    "probability= (lower_pdf+upper_pdf)/2*width\n",
    "\n",
    "probability"
   ]
  },
  {
   "cell_type": "markdown",
   "metadata": {},
   "source": [
    "#### Task8: Univariate Analysis\n",
    "----------------\n",
    "Lets model the petal length as a univariate continuous Gaussian random variable. What is the relative probability of seeing a flower with the petal length 5.4 to a flower with petal length 3.9."
   ]
  },
  {
   "cell_type": "code",
   "execution_count": 19,
   "metadata": {
    "run_control": {
     "breakpoint": false
    }
   },
   "outputs": [
    {
     "data": {
      "text/plain": [
       "0.6524683051694562"
      ]
     },
     "execution_count": 19,
     "metadata": {},
     "output_type": "execute_result"
    }
   ],
   "source": [
    "lower_pdf= pdf(5.4, mean_of_petal_length, std, var1)\n",
    "upper_pdf= pdf(3.9, mean_of_petal_length, std, var1)\n",
    "\n",
    "probability = lower_pdf / upper_pdf\n",
    "\n",
    "probability"
   ]
  },
  {
   "cell_type": "markdown",
   "metadata": {},
   "source": [
    "#### Task9: Univariate Analysis\n",
    "Write a function to build a histogarm of the given feature vector (list). Your function should receive two arguments a feature vector (a list) and number of bins and return the built histogram. "
   ]
  },
  {
   "cell_type": "code",
   "execution_count": 20,
   "metadata": {},
   "outputs": [],
   "source": [
    "def find_nbins(feature):\n",
    "    lengthoffeature=0\n",
    "    for i in feature:\n",
    "        lengthoffeature+=1\n",
    "    \n",
    "    return lengthoffeature"
   ]
  },
  {
   "cell_type": "code",
   "execution_count": 23,
   "metadata": {
    "run_control": {
     "breakpoint": false
    }
   },
   "outputs": [
    {
     "data": {
      "image/png": "[encoded data removed]",
      "text/plain": [
       "<Figure size 640x480 with 1 Axes>"
      ]
     },
     "metadata": {},
     "output_type": "display_data"
    }
   ],
   "source": [
    "import math\n",
    "def buildHistogram(feature, nbins):\n",
    "    \"\"\" Histogram the feature into number of bins \"\"\"\n",
    "    \n",
    "    plt.hist(datalist[0], bins=nbins)\n",
    "    plt.title('Histogram of petal length')\n",
    "    plt.show()\n",
    "    \n",
    "    \n",
    "nbins= find_nbins(datalist[0])\n",
    "buildHistogram(datalist[0],nbins)"
   ]
  },
  {
   "cell_type": "markdown",
   "metadata": {},
   "source": [
    "#### Task10: Univariate Analysis\n",
    "Write a function that returns a list containing all the four quantile of the given feature vector."
   ]
  },
  {
   "cell_type": "code",
   "execution_count": 24,
   "metadata": {},
   "outputs": [],
   "source": [
    "def sorting(arr):\n",
    "    n=0\n",
    "    for i in arr:\n",
    "        n+=1\n",
    "        \n",
    "    for i in range(n):\n",
    "        for j in range(0, n - i - 1):\n",
    "            if arr[j] > arr[j + 1]:\n",
    "                arr[j], arr[j + 1] = arr[j + 1], arr[j]\n",
    "    return arr, n"
   ]
  },
  {
   "cell_type": "code",
   "execution_count": 25,
   "metadata": {
    "run_control": {
     "breakpoint": false
    }
   },
   "outputs": [
    {
     "data": {
      "text/plain": [
       "([1.6, 4.4, 5.1, 6.9], [0.3, 1.3, 1.8, 2.5])"
      ]
     },
     "execution_count": 25,
     "metadata": {},
     "output_type": "execute_result"
    }
   ],
   "source": [
    "def getQuantile(features):\n",
    "    \"\"\" Function returns the four quantile of the given feature vector in a list \"\"\"    \n",
    "    quartile=[0]*4    \n",
    "    features, length= sorting(features)\n",
    "    \n",
    "    q1= int((length-1)/4) #This is the value below which 25% of the data falls.\n",
    "    quartile[0]= features[q1]\n",
    "    q2= int((length-1)/2)\n",
    "    quartile[1]= features[q2]\n",
    "    q3= int((3*(length-1))/4)\n",
    "    quartile[2]= features[q3]\n",
    "    q4= features[-1]\n",
    "    quartile[3]= q4\n",
    "    \n",
    "    return quartile\n",
    "\n",
    "pl_quartiles= getQuantile(datalist[0])\n",
    "pw_quartiles= getQuantile(datalist[1])\n",
    "\n",
    "pl_quartiles, pw_quartiles"
   ]
  },
  {
   "cell_type": "markdown",
   "metadata": {},
   "source": [
    "#### Task11: Univariate Analysis\n",
    "Find the outliers in the features petal length and width. Comment on how you have decided on the features which are outliers."
   ]
  },
  {
   "cell_type": "code",
   "execution_count": 26,
   "metadata": {
    "run_control": {
     "breakpoint": false
    }
   },
   "outputs": [
    {
     "name": "stdout",
     "output_type": "stream",
     "text": [
      "Upper range is 10.349999999999998 and lower range is -0.14999999999999947\n",
      "Upper range is 4.05 and lower range is 4.05\n"
     ]
    }
   ],
   "source": [
    "IQR_pl = pl_quartiles[2]-pl_quartiles[0]\n",
    "IQR_pw = pw_quartiles[2]-pw_quartiles[0]\n",
    "\n",
    "# mean_of_petal_length\n",
    "# mean_of_petal_width\n",
    "\n",
    "upper_pl= pl_quartiles[2]+(1.5*IQR_pl)\n",
    "lower_pl= pl_quartiles[2]-(1.5*IQR_pl)\n",
    "\n",
    "# the values outside this range are outlier\n",
    "print(f\"Upper range is {upper_pl} and lower range is {lower_pl}\")\n",
    "\n",
    "for i in datalist[0]:\n",
    "    if i>=lower_pl and i<=upper_pl:\n",
    "        continue\n",
    "    else:\n",
    "        print(f\"The value {i} is outlier\")\n",
    "\n",
    "upper_pw= 1.5*IQR_pw+ pw_quartiles[2]\n",
    "lower_pw= 1.5*IQR_pw+ pw_quartiles[2]\n",
    "\n",
    "print(f\"Upper range is {upper_pw} and lower range is {lower_pw}\")\n",
    "\n",
    "for i in datalist[1]:\n",
    "    if i>=lower_pl and i<=lower_pw:\n",
    "        continue\n",
    "    else:\n",
    "        print(f\"The value {i} is outlier\")"
   ]
  },
  {
   "cell_type": "markdown",
   "metadata": {},
   "source": [
    "#### Task12: Multivariate Analysis\n",
    "Lets model the petal length and width as a bivariate Bernoulli random variable by categorizing the petal length (< 4.9cm) and petal width as short(< 1.6cm) and vice versa. Suppose that petal length is represented by random variable $x$ and petal width by random variable $y$. Now write the code for finding the probability of following cases:\n",
    "$$P(x=0, y=0)= ?$$\n",
    "$$P(x=0, y=1)= ?$$\n",
    "$$P(x=1, y=0)= ?$$\n",
    "$$P(x=1, y=1)= ?$$\n",
    "\n",
    "Here $x=0$ represent the flowers with short petal length and $x=1$ represent the flower with long petal length..\n"
   ]
  },
  {
   "cell_type": "code",
   "execution_count": 36,
   "metadata": {
    "run_control": {
     "breakpoint": false
    }
   },
   "outputs": [
    {
     "name": "stdout",
     "output_type": "stream",
     "text": [
      "P(x=0, y=0) = 0.6174496644295302\n",
      "P(x=0, y=1) = 0.040268456375838924\n",
      "P(x=1, y=0) = 0.03355704697986577\n",
      "P(x=1, y=1) = 0.3087248322147651\n"
     ]
    }
   ],
   "source": [
    "# Given petal lengths and widths\n",
    "pl_threshold = 4.9\n",
    "pw_threshold = 1.6\n",
    "\n",
    "    \n",
    "x = []\n",
    "for length in datalist[0]:\n",
    "    if length < pl_threshold: # less than threshold are short\n",
    "        x.append(0)\n",
    "    else:\n",
    "        x.append(1)\n",
    "        \n",
    "y = []\n",
    "for length in datalist[1]:\n",
    "    if length < pw_threshold: # less than threshold are small\n",
    "        y.append(0)\n",
    "    else:\n",
    "        y.append(1)\n",
    "        \n",
    "\n",
    "lenofelement = len(datalist[0])\n",
    "\n",
    "# P(x=0, y=0)\n",
    "count = 0\n",
    "for i in range(lenofelement):\n",
    "    if x[i] == 0 and y[i] == 0:\n",
    "        count += 1\n",
    "\n",
    "p_x0_y0 = count / lenofelement\n",
    "\n",
    "# P(x=0, y=1)\n",
    "count = 0\n",
    "\n",
    "for i in range(lenofelement):\n",
    "    if x[i] == 0 and y[i] == 1:\n",
    "        count += 1\n",
    "\n",
    "p_x0_y1 = count / lenofelement\n",
    "\n",
    "# P(x=1, y=0)\n",
    "count= 0\n",
    "\n",
    "for i in range(lenofelement):S\n",
    "    if x[i] == 1 and y[i] == 0:\n",
    "        count += 1\n",
    "\n",
    "p_x1_y0 = count / lenofelement\n",
    "\n",
    "# P(x=1, y=1)\n",
    "count= 0\n",
    "\n",
    "for i in range(lenofelement):\n",
    "    if x[i] == 1 and y[i] == 1:\n",
    "        count+= 1\n",
    "\n",
    "p_x1_y1 = count/ lenofelement\n",
    "\n",
    "# Output the probabilities\n",
    "print(f\"P(x=0, y=0) = {p_x0_y0}\")\n",
    "print(f\"P(x=0, y=1) = {p_x0_y1}\")\n",
    "print(f\"P(x=1, y=0) = {p_x1_y0}\")\n",
    "print(f\"P(x=1, y=1) = {p_x1_y1}\")\n"
   ]
  },
  {
   "cell_type": "markdown",
   "metadata": {},
   "source": [
    "#### Task13: Multivariate Analysis\n",
    "What will be probability of seeing of flower with long petal length ? Find the result using marginalization principle."
   ]
  },
  {
   "cell_type": "code",
   "execution_count": 37,
   "metadata": {
    "run_control": {
     "breakpoint": false
    }
   },
   "outputs": [
    {
     "name": "stdout",
     "output_type": "stream",
     "text": [
      "Probability of long petal length: 0.28187919463087246\n"
     ]
    }
   ],
   "source": [
    "threshold = 5.0\n",
    "\n",
    "count=0\n",
    "for length in datalist[0]:\n",
    "    if length>threshold: # Greater than threshold are long\n",
    "        count+=1\n",
    "\n",
    "total = len(data)\n",
    "\n",
    "probability = count / total\n",
    "\n",
    "# Print the result\n",
    "print(f\"Probability of long petal length: {probability_of_long_petal}\")\n"
   ]
  },
  {
   "cell_type": "markdown",
   "metadata": {},
   "source": [
    "#### Task14: Multivariate Analysis\n",
    "Lets model the sepal length, sepal width, petal length and width as a multivariate Bernoulli random variable by categorizing the sepal length  as (short< 7.1cm), sepal width (short< 3.1cm), petal length (short< 4.9cm) and petal width (short< 1.6cm) and vice versa. Suppose that all four measures are represented by random variables $x_1, x_2, x_3, x_4$ respectively. Now write the code for finding the probability of the following cases:\n",
    "$$p(x_1=1, x_2=1, x_3=0, x_4=1)$$\n",
    "$$p(x_1=0, x_2=1, x_3=0, x_4=1)$$\n",
    "$$p(x_1=0, x_2=0, x_3=0, x_4=1)$$\n",
    "$$p(x_1=1, x_2=1, x_3=1, x_4=1)$$\n",
    "\n",
    "Here $x_i=0$ represent the flowers with short featuers and $x_i=1$ represent the flower with long feature.\n"
   ]
  },
  {
   "cell_type": "code",
   "execution_count": 43,
   "metadata": {},
   "outputs": [],
   "source": [
    "def list_categorize(data, threshold):\n",
    "    result = []\n",
    "\n",
    "    for x in data:\n",
    "        if x >= threshold:\n",
    "            result.append(1)\n",
    "        else:\n",
    "            result.append(0)\n",
    "\n",
    "    return result"
   ]
  },
  {
   "cell_type": "code",
   "execution_count": 44,
   "metadata": {},
   "outputs": [],
   "source": [
    "def calculate_probability(data, condition):\n",
    "    count = 0\n",
    "\n",
    "    for entry in data:\n",
    "        if entry == condition:\n",
    "            count += 1\n",
    "            \n",
    "    total = len(data)\n",
    "    return count / total"
   ]
  },
  {
   "cell_type": "code",
   "execution_count": 55,
   "metadata": {
    "run_control": {
     "breakpoint": false
    }
   },
   "outputs": [
    {
     "name": "stdout",
     "output_type": "stream",
     "text": [
      "p(1, 1, 0, 1): 0.0\n",
      "p(0, 1, 0, 1): 0.0\n",
      "p(0, 0, 0, 1): 0.10738255033557047\n",
      "p(1, 1, 1, 1): 0.0\n"
     ]
    }
   ],
   "source": [
    "x1 = list_categorize(datalist[0], 7.1)\n",
    "x2 = list_categorize(datalist[1], 3.1)\n",
    "x3 = list_categorize(datalist[2], 4.9)\n",
    "x4 = list_categorize(datalist[3], 1.6)\n",
    "\n",
    "data = list(zip(x1, x2, x3, x4))\n",
    "\n",
    "conditions = [\n",
    "    (1, 1, 0, 1),\n",
    "    (0, 1, 0, 1),\n",
    "    (0, 0, 0, 1),\n",
    "    (1, 1, 1, 1)\n",
    "]\n",
    "\n",
    "for condition in conditions:\n",
    "    prob = calculate_probability(data, condition)\n",
    "    print(f\"p{condition}: {prob}\")\n",
    "    "
   ]
  }
 ],
 "metadata": {
  "anaconda-cloud": {},
  "kernelspec": {
   "display_name": "Python 3 (ipykernel)",
   "language": "python",
   "name": "python3"
  },
  "language_info": {
   "codemirror_mode": {
    "name": "ipython",
    "version": 3
   },
   "file_extension": ".py",
   "mimetype": "text/x-python",
   "name": "python",
   "nbconvert_exporter": "python",
   "pygments_lexer": "ipython3",
   "version": "3.11.4"
  }
 },
 "nbformat": 4,
 "nbformat_minor": 1
}
