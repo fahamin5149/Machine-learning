{
 "cells": [
  {
   "cell_type": "markdown",
   "metadata": {
    "collapsed": true
   },
   "source": [
    "# Assignment No 1b\n",
    "###### *Hassan Raza*\n",
    "----\n",
    "## Goal\n",
    "\n",
    "Your goal in this assigment is to implement and refresh the multivariate concepts learned during the previous weeks using the Python language. This will not only solidify your Python understanding but also give you strong footing for further advancement :)\n",
    "\n",
    "**Note** Please note that can use *numpy and scipy* to complete the tasks. In case you need any help you can post on google classroom.\n",
    "\n",
    "## Submission Instructions\n",
    "You are required to submit the original notebook file on the google classroom (with .ipynb extension), with complete set of outputs. Students failing to do so will get zero marks. \n",
    "\n",
    "*Please read each step carefully and understand it fully before proceeding with code writing*\n",
    "\n",
    "## Plagiarism\n",
    "Any form of plagiarism will not be tolerated and result in 0 marks."
   ]
  },
  {
   "cell_type": "markdown",
   "metadata": {},
   "source": [
    "**So Lets Start**"
   ]
  },
  {
   "cell_type": "code",
   "execution_count": 1,
   "metadata": {},
   "outputs": [
    {
     "name": "stdout",
     "output_type": "stream",
     "text": [
      "%pylab is deprecated, use %matplotlib inline and import the required libraries.\n",
      "Populating the interactive namespace from numpy and matplotlib\n"
     ]
    }
   ],
   "source": [
    "# magic command to include all the necessary libraries\n",
    "%pylab inline "
   ]
  },
  {
   "cell_type": "code",
   "execution_count": null,
   "metadata": {
    "run_control": {
     "breakpoint": false
    }
   },
   "outputs": [],
   "source": [
    "#Download the IRIS dataset\n",
    "#\"!\" means run the bash (shell) command\n",
    "!wget http://archive.ics.uci.edu/ml/machine-learning-databases/iris/iris.data"
   ]
  },
  {
   "cell_type": "code",
   "execution_count": 3,
   "metadata": {
    "run_control": {
     "breakpoint": false
    }
   },
   "outputs": [],
   "source": [
    "#import pandas and name this namespace as pd\n",
    "import pandas as pd"
   ]
  },
  {
   "cell_type": "code",
   "execution_count": 4,
   "metadata": {
    "run_control": {
     "breakpoint": false
    }
   },
   "outputs": [
    {
     "name": "stdout",
     "output_type": "stream",
     "text": [
      "       SepalLength  SepalWidth  PetalLength  PetalWidth\n",
      "count   149.000000  149.000000   149.000000  149.000000\n",
      "mean      5.848322    3.051007     3.774497    1.205369\n",
      "std       0.828594    0.433499     1.759651    0.761292\n",
      "min       4.300000    2.000000     1.000000    0.100000\n",
      "25%       5.100000    2.800000     1.600000    0.300000\n",
      "50%       5.800000    3.000000     4.400000    1.300000\n",
      "75%       6.400000    3.300000     5.100000    1.800000\n",
      "max       7.900000    4.400000     6.900000    2.500000\n"
     ]
    }
   ],
   "source": [
    "#Load data and name the columns\n",
    "data=pd.read_csv('iris.data.txt')\n",
    "data.columns=['SepalLength','SepalWidth','PetalLength','PetalWidth','Class']\n",
    "print (data.describe())"
   ]
  },
  {
   "cell_type": "code",
   "execution_count": 5,
   "metadata": {
    "run_control": {
     "breakpoint": false
    }
   },
   "outputs": [
    {
     "name": "stdout",
     "output_type": "stream",
     "text": [
      "PetalLength= [1.4, 1.3, 1.5, 1.4, 1.7, 1.4, 1.5, 1.4, 1.5, 1.5, 1.6, 1.4, 1.1, 1.2, 1.5, 1.3, 1.4, 1.7, 1.5, 1.7, 1.5, 1.0, 1.7, 1.9, 1.6, 1.6, 1.5, 1.4, 1.6, 1.6, 1.5, 1.5, 1.4, 1.5, 1.2, 1.3, 1.5, 1.3, 1.5, 1.3, 1.3, 1.3, 1.6, 1.9, 1.4, 1.6, 1.4, 1.5, 1.4, 4.7, 4.5, 4.9, 4.0, 4.6, 4.5, 4.7, 3.3, 4.6, 3.9, 3.5, 4.2, 4.0, 4.7, 3.6, 4.4, 4.5, 4.1, 4.5, 3.9, 4.8, 4.0, 4.9, 4.7, 4.3, 4.4, 4.8, 5.0, 4.5, 3.5, 3.8, 3.7, 3.9, 5.1, 4.5, 4.5, 4.7, 4.4, 4.1, 4.0, 4.4, 4.6, 4.0, 3.3, 4.2, 4.2, 4.2, 4.3, 3.0, 4.1, 6.0, 5.1, 5.9, 5.6, 5.8, 6.6, 4.5, 6.3, 5.8, 6.1, 5.1, 5.3, 5.5, 5.0, 5.1, 5.3, 5.5, 6.7, 6.9, 5.0, 5.7, 4.9, 6.7, 4.9, 5.7, 6.0, 4.8, 4.9, 5.6, 5.8, 6.1, 6.4, 5.6, 5.1, 5.6, 6.1, 5.6, 5.5, 4.8, 5.4, 5.6, 5.1, 5.1, 5.9, 5.7, 5.2, 5.0, 5.2, 5.4, 5.1]\n",
      "PetalWidth= [0.2, 0.2, 0.2, 0.2, 0.4, 0.3, 0.2, 0.2, 0.1, 0.2, 0.2, 0.1, 0.1, 0.2, 0.4, 0.4, 0.3, 0.3, 0.3, 0.2, 0.4, 0.2, 0.5, 0.2, 0.2, 0.4, 0.2, 0.2, 0.2, 0.2, 0.4, 0.1, 0.2, 0.1, 0.2, 0.2, 0.1, 0.2, 0.2, 0.3, 0.3, 0.2, 0.6, 0.4, 0.3, 0.2, 0.2, 0.2, 0.2, 1.4, 1.5, 1.5, 1.3, 1.5, 1.3, 1.6, 1.0, 1.3, 1.4, 1.0, 1.5, 1.0, 1.4, 1.3, 1.4, 1.5, 1.0, 1.5, 1.1, 1.8, 1.3, 1.5, 1.2, 1.3, 1.4, 1.4, 1.7, 1.5, 1.0, 1.1, 1.0, 1.2, 1.6, 1.5, 1.6, 1.5, 1.3, 1.3, 1.3, 1.2, 1.4, 1.2, 1.0, 1.3, 1.2, 1.3, 1.3, 1.1, 1.3, 2.5, 1.9, 2.1, 1.8, 2.2, 2.1, 1.7, 1.8, 1.8, 2.5, 2.0, 1.9, 2.1, 2.0, 2.4, 2.3, 1.8, 2.2, 2.3, 1.5, 2.3, 2.0, 2.0, 1.8, 2.1, 1.8, 1.8, 1.8, 2.1, 1.6, 1.9, 2.0, 2.2, 1.5, 1.4, 2.3, 2.4, 1.8, 1.8, 2.1, 2.4, 2.3, 1.9, 2.3, 2.5, 2.3, 1.9, 2.0, 2.3, 1.8]\n"
     ]
    }
   ],
   "source": [
    "#Code for generating data....\n",
    "datalist=[] #create an empty list\n",
    "# data list is a list of two elements, where index=0 contains data corresponding to petal \n",
    "# length and index=1 contains data corresponding to petal width\n",
    "datalist.append(list(data['PetalLength'].dropna()))\n",
    "datalist.append(list(data['PetalWidth'].dropna()))\n",
    "datalist.append(list(data['SepalLength'].dropna()))\n",
    "datalist.append(list(data['SepalWidth'].dropna()))\n",
    "\n",
    "#If you want you build a numpy array from this list.\n",
    "\n",
    "print (\"PetalLength=\", datalist[0])\n",
    "print (\"PetalWidth=\", datalist[1])\n",
    "\n",
    "#This and above code are both same...\n",
    "# datalist=[0]*2#create a list of 2 elements\n",
    "# datalist[0]=(list(data['PetalLength'].dropna()))\n",
    "# datalist[1]=(list(data['PetalWidth'].dropna()))\n",
    "#data list is a list of two elements, where index=0 contains data corresponding to petal \n",
    "# length and index=1 contains data corresponding to petal width\n",
    "# print(\"PetalLength=\", datalist[0])\n",
    "# print(\"PetalWidth=\", datalist[1])"
   ]
  },
  {
   "cell_type": "markdown",
   "metadata": {},
   "source": [
    "*In all the tasks given below use the list variable `datalist` (defined above) to answer all the questions.*\n",
    "\n",
    "#### Task1\n",
    "----------------\n",
    "Lets model the petal length and width as continuous random variable $X=(x_1,x_2)$. Find the mean of this random variable. Here $x_1$ specifies the petal length and $x_2$ its width."
   ]
  },
  {
   "cell_type": "code",
   "execution_count": 8,
   "metadata": {
    "run_control": {
     "breakpoint": false
    }
   },
   "outputs": [
    {
     "name": "stdout",
     "output_type": "stream",
     "text": [
      "The mean of petal length is 3.7744966442953043\n",
      "The mean of petal width is 1.2053691275167793\n"
     ]
    }
   ],
   "source": [
    "def calculate_mean(data):\n",
    "    sum_of_val=0\n",
    "\n",
    "    for i in data:\n",
    "        sum_of_val+=i\n",
    "\n",
    "    mean_of_val= sum_of_val/len(data)\n",
    "    return mean_of_val\n",
    "\n",
    "mean_petal_length = calculate_mean(datalist[0])\n",
    "mean_petal_length = calculate_mean(datalist[1])\n",
    "\n",
    "print(f\"The mean of petal length is {mean_petal_length}\")\n",
    "print(f\"The mean of petal width is {mean_petal_length}\")\n"
   ]
  },
  {
   "cell_type": "markdown",
   "metadata": {},
   "source": [
    "#### Task2\n",
    "----------------\n",
    "Compute the covariance matrix $X$ using outper product formula, i.e. $\\Sigma=\\frac{1}{n}Z^T\\;Z$, where $Z$ is centered data matrix (mean = 0)"
   ]
  },
  {
   "cell_type": "code",
   "execution_count": 11,
   "metadata": {},
   "outputs": [],
   "source": [
    "def center_data(data, mean):\n",
    "    result = []\n",
    "\n",
    "    for x in data:\n",
    "        difference = x - mean\n",
    "        result.append(difference)\n",
    "        \n",
    "    return result"
   ]
  },
  {
   "cell_type": "code",
   "execution_count": 13,
   "metadata": {},
   "outputs": [],
   "source": [
    "def compute_covariance(Z):\n",
    "    \n",
    "    Z = np.array(Z)\n",
    "    \n",
    "    n = Z.shape[0]\n",
    "    Z_T = Z.T\n",
    "    covariance_matrix = np.dot(Z_T, Z) / n\n",
    "    \n",
    "    return covariance_matrix"
   ]
  },
  {
   "cell_type": "code",
   "execution_count": 20,
   "metadata": {
    "run_control": {
     "breakpoint": false
    }
   },
   "outputs": [
    {
     "name": "stdout",
     "output_type": "stream",
     "text": [
      "Covariance Matrix:\n",
      "[[3.07559119 1.2804725 ]\n",
      " [1.2804725  0.57567587]]\n"
     ]
    }
   ],
   "source": [
    "centered_pl = center_data(datalist[0], mean_petal_length)\n",
    "centered_pw = center_data(datalist[1], mean_petal_width)\n",
    "\n",
    "array = []\n",
    "for i in range(len(centered_pl)):\n",
    "    newlist = [centered_pl[i], centered_pw[i]]\n",
    "    array.append(newlist)\n",
    "\n",
    "covariance = compute_covariance(array)\n",
    "\n",
    "print(\"Covariance Matrix:\")\n",
    "print(covariance)\n"
   ]
  },
  {
   "cell_type": "markdown",
   "metadata": {},
   "source": [
    "#### Task3: Multivariate Gaussian\n",
    "----------------\n",
    "Let's model $X$ with multivariate Gaussian. Find the probability of having flowers with petal width and height in the following range $P(3.5 < x_1 < 3.7,5.5 < x_2 <5.6)$.\n",
    "Recall that \n",
    "$$f_{\\mathbf x}(x_1,\\ldots,x_k) = \\frac{1}{\\sqrt{(2\\pi)^k|\\boldsymbol\\Sigma|}} \\exp\\left(-\\frac{1}{2}({\\mathbf x}-{\\boldsymbol\\mu})^\\mathrm{T}{\\boldsymbol\\Sigma}^{-1}({\\mathbf x}-{\\boldsymbol\\mu}) \\right)$$\n",
    "\n",
    "where ${\\mathbf x}$ is a real k-dimensional column vector and $|\\boldsymbol\\Sigma|$ is the determinant of $\\boldsymbol\\Sigma$. For our this case $k=2$ "
   ]
  },
  {
   "cell_type": "code",
   "execution_count": null,
   "metadata": {},
   "outputs": [],
   "source": []
  },
  {
   "cell_type": "code",
   "execution_count": null,
   "metadata": {},
   "outputs": [],
   "source": []
  },
  {
   "cell_type": "code",
   "execution_count": 16,
   "metadata": {},
   "outputs": [],
   "source": [
    "def determinant(matrix):\n",
    "    return matrix[0][0] * matrix[1][1] - matrix[0][1] * matrix[1][0]"
   ]
  },
  {
   "cell_type": "code",
   "execution_count": 17,
   "metadata": {},
   "outputs": [],
   "source": [
    "def inverse(matrix):\n",
    "    det = determinant(matrix)\n",
    "    return [[matrix[1][1] / det, -matrix[0][1] / det],\n",
    "            [-matrix[1][0] / det, matrix[0][0] / det]]"
   ]
  },
  {
   "cell_type": "code",
   "execution_count": 18,
   "metadata": {},
   "outputs": [],
   "source": [
    "def pdf(x, mu, sigma):\n",
    "    k = len(mu)\n",
    "    diff = [x[i] - mu[i] for i in range(k)]\n",
    "    inv_sigma = inverse(sigma)\n",
    "    exponent = -0.5 * sum(diff[i] * sum(inv_sigma[i][j] * diff[j] for j in range(k)) for i in range(k))\n",
    "    coeff = 1 / (math.sqrt((2 * math.pi) ** k * determinant(sigma)))\n",
    "    return coeff * math.exp(exponent)"
   ]
  },
  {
   "cell_type": "code",
   "execution_count": null,
   "metadata": {},
   "outputs": [],
   "source": [
    "mean_val=[mean_petal_length,mean_petal_length]\n",
    "\n",
    "lower_bound=[3.5,5.5]\n",
    "upper_bound=[3.7,5.6]\n",
    "\n",
    "num_steps=100\n",
    "dx1=(upper_bound[0]-lower_bound[0])/num_steps\n",
    "dx2=(upper_bound[1]-lower_bound[1])/num_steps\n",
    "probability=0.0\n",
    "\n",
    "for i in range(len(datalist[0])):\n",
    "    for j in range(len(datalist[0])):\n",
    "        x1=lower_bound[0]+(i+0.5)*dx1\n",
    "        x2=lower_bound[1]+(j+0.5)*dx2\n",
    "        \n",
    "        probability+=pdf([x1,x2],mean_val,covariance)*dx1*dx2\n"
   ]
  },
  {
   "cell_type": "markdown",
   "metadata": {},
   "source": [
    "#### Task4: Multivariate Gaussian\n",
    "\n",
    "Now consider that both the attributes are statistically independent and normally distributed then what will be the probability of $P(3.5 < x_1 < 3.7,5.5 < x_2 <5.6)$\n"
   ]
  },
  {
   "cell_type": "code",
   "execution_count": 28,
   "metadata": {},
   "outputs": [],
   "source": [
    "def probability(val1, val2, mean, sigma):\n",
    "    newval1 = (val1-mean)/sigma\n",
    "    newval2= (val2-mean)/sigma\n",
    "    return newval2 -newval1"
   ]
  },
  {
   "cell_type": "code",
   "execution_count": 34,
   "metadata": {
    "run_control": {
     "breakpoint": false
    }
   },
   "outputs": [
    {
     "name": "stdout",
     "output_type": "stream",
     "text": [
      "Joint probability:0.011144850706766051\n"
     ]
    }
   ],
   "source": [
    "import numpy as np\n",
    "\n",
    "sigma1= np.cov(datalist[0])\n",
    "sigma2= np.cov(datalist[1])\n",
    "\n",
    "prob_x1 = probability(3.5, 3.7, mean_of_petal_length, sigma1)\n",
    "prob_x2 = probability(5.5, 5.6, mean_of_petal_width, sigma2)\n",
    "\n",
    "#x1 and x2 are independent, multiply the two probabilities\n",
    "joint_probability = prob_x1 * prob_x2\n",
    "\n",
    "print(f\"Joint probability:{joint_probability}\")"
   ]
  },
  {
   "cell_type": "markdown",
   "metadata": {},
   "source": [
    "#### Task5: Categorical Random Variables.\n",
    "----------------\n",
    "Lets categorize the petal length variable to four categories, i.e very short $\\in[1,1.6]$, short $\\in(1.6,4.4]$, long $\\in(4.4,5.1]$, very long $\\in(5.1,6.9]$ and model this varible using random variable $x$\n",
    "\n",
    "Find the probability of this cateogrical random variable."
   ]
  },
  {
   "cell_type": "code",
   "execution_count": 45,
   "metadata": {},
   "outputs": [],
   "source": [
    "def categorize_petal_length(petal_length):\n",
    "    if 1<=petal_length<=1.6:\n",
    "        return 'Very Short'\n",
    "    elif 1.6<petal_length<=4.4:\n",
    "        return 'Short'\n",
    "    elif 4.4<petal_length<=5.1:\n",
    "        return 'Long'\n",
    "    elif 5.1<petal_length<=6.9:\n",
    "        return 'Very Long'\n",
    "    else:\n",
    "        return 'Unknown'"
   ]
  },
  {
   "cell_type": "code",
   "execution_count": 48,
   "metadata": {},
   "outputs": [
    {
     "name": "stdout",
     "output_type": "stream",
     "text": [
      "Probability of Very Short: 0.28859060402684567\n",
      "Probability of Short: 0.2348993288590604\n",
      "Probability of Long: 0.2483221476510067\n",
      "Probability of Very Long: 0.22818791946308725\n"
     ]
    }
   ],
   "source": [
    "categories={'Very Short':0,'Short':0,'Long':0,'Very Long':0}\n",
    "dict_of_categories={'Very Short':[],'Short':[],'Long':[],'Very Long':[]}\n",
    "total_count=len(PetalLength)\n",
    "\n",
    "for length in datalist[0]:\n",
    "    category=categorize_petal_length(length)\n",
    "    categories[category]+=1\n",
    "    dict_of_categories[category].append(length)\n",
    "\n",
    "for category,count in categories.items():\n",
    "    probability=count/total_count\n",
    "    print(f\"Probability of {category}: {probability}\")"
   ]
  },
  {
   "cell_type": "markdown",
   "metadata": {},
   "source": [
    "#### Task6: Categorical Random Variables.\n",
    "Find the mean and covariance matrix of categorical variable $x$."
   ]
  },
  {
   "cell_type": "code",
   "execution_count": 70,
   "metadata": {
    "run_control": {
     "breakpoint": false
    }
   },
   "outputs": [
    {
     "name": "stdout",
     "output_type": "stream",
     "text": [
      "Mean of Very Short: 0.41073825503355704\n",
      "Mean of Short: 0.8409395973154361\n",
      "Mean of Long: 1.1932885906040267\n",
      "Mean of Very Long: 1.3295302013422818\n"
     ]
    }
   ],
   "source": [
    "newlist=[]\n",
    "for category,list_of_categ in dict_of_categories.items():\n",
    "    meanval=sum(list_of_categ)/len(datalist[0])\n",
    "    newlist.append(list_of_categ)\n",
    "    \n",
    "    print(f\"Mean of {category}: {meanval}\")"
   ]
  },
  {
   "cell_type": "code",
   "execution_count": 57,
   "metadata": {},
   "outputs": [
    {
     "name": "stdout",
     "output_type": "stream",
     "text": [
      "Very Short: [1.4, 1.3, 1.5, 1.4, 1.4, 1.5, 1.4, 1.5, 1.5, 1.6, 1.4, 1.1, 1.2, 1.5, 1.3, 1.4, 1.5, 1.5, 1.0, 1.6, 1.6, 1.5, 1.4, 1.6, 1.6, 1.5, 1.5, 1.4, 1.5, 1.2, 1.3, 1.5, 1.3, 1.5, 1.3, 1.3, 1.3, 1.6, 1.4, 1.6, 1.4, 1.5, 1.4]\n",
      "Short: [1.7, 1.7, 1.7, 1.7, 1.9, 1.9, 4.0, 3.3, 3.9, 3.5, 4.2, 4.0, 3.6, 4.4, 4.1, 3.9, 4.0, 4.3, 4.4, 3.5, 3.8, 3.7, 3.9, 4.4, 4.1, 4.0, 4.4, 4.0, 3.3, 4.2, 4.2, 4.2, 4.3, 3.0, 4.1]\n",
      "Long: [4.7, 4.5, 4.9, 4.6, 4.5, 4.7, 4.6, 4.7, 4.5, 4.5, 4.8, 4.9, 4.7, 4.8, 5.0, 4.5, 5.1, 4.5, 4.5, 4.7, 4.6, 5.1, 4.5, 5.1, 5.0, 5.1, 5.0, 4.9, 4.9, 4.8, 4.9, 5.1, 4.8, 5.1, 5.1, 5.0, 5.1]\n",
      "Very Long: [6.0, 5.9, 5.6, 5.8, 6.6, 6.3, 5.8, 6.1, 5.3, 5.5, 5.3, 5.5, 6.7, 6.9, 5.7, 6.7, 5.7, 6.0, 5.6, 5.8, 6.1, 6.4, 5.6, 5.6, 6.1, 5.6, 5.5, 5.4, 5.6, 5.9, 5.7, 5.2, 5.2, 5.4]\n"
     ]
    }
   ],
   "source": [
    "lengthlist=[]\n",
    "for category,list_of_categ in dict_of_categories.items():\n",
    "    print(f\"{category}: {list_of_categ}\")\n",
    "    lengthlist.append(len(list_of_categ))"
   ]
  },
  {
   "cell_type": "markdown",
   "metadata": {},
   "source": [
    "#### Task7: Categorical Random Variables.\n",
    "\n",
    "If we select 10 random flowers what will be the probability of picking 3 very short length, 2 short length, 4 long length and 1 very long petal length flowers."
   ]
  },
  {
   "cell_type": "markdown",
   "metadata": {},
   "source": [
    "Multinomial coefficient: n! / (k1! k2! k3! k4!)\n"
   ]
  },
  {
   "cell_type": "code",
   "execution_count": null,
   "metadata": {},
   "outputs": [],
   "source": [
    "def calculate_probability(count, total):\n",
    "    return count / total"
   ]
  },
  {
   "cell_type": "code",
   "execution_count": 58,
   "metadata": {
    "run_control": {
     "breakpoint": false
    }
   },
   "outputs": [
    {
     "name": "stdout",
     "output_type": "stream",
     "text": [
      "Probability of selecting the specified combination of flowers: 0.014498902511786727\n"
     ]
    }
   ],
   "source": [
    "import math\n",
    "\n",
    "p_very_short=lengthlist[0]/len(datalist[0])\n",
    "p_short=lengthlist[1]/len(datalist[0])\n",
    "p_long=lengthlist[2]/len(datalist[0])\n",
    "p_very_long=lengthlist[3]/len(datalist[0])\n",
    "\n",
    "k_very_short=3\n",
    "k_short=2\n",
    "k_long=4\n",
    "k_very_long=1\n",
    "\n",
    "n=10\n",
    "\n",
    "multinomial_coeff=math.factorial(n)/(math.factorial(k_very_short)*math.factorial(k_short)*math.factorial(k_long)*math.factorial(k_very_long))\n",
    "\n",
    "probability=multinomial_coeff*(p_very_short**k_very_short)*(p_short**k_short)*(p_long**k_long)*(p_very_long**k_very_long)\n",
    "\n",
    "print(\"Probability of selecting the specified combination of flowers:\",probability)"
   ]
  },
  {
   "cell_type": "markdown",
   "metadata": {},
   "source": [
    "#### Task8: Bivariate Categorical Random Variables.\n",
    "----------------\n",
    "Lets also categorize the petal width variable to three categories, i.e short $\\in[0.1,1.0]$, medium  $\\in(1.0,1.75)$, long $\\in(1.75,2.5]$.\n",
    "\n",
    "Now lets model both the petal length and width as bivariate categorical random variable $X$.\n",
    "Find the probability for following cases.\n",
    "\n",
    "$$p(x_1=[1000], x_2=[000])$$\n",
    "$$p(x_1=[1000], x_2=[001])$$\n",
    "\n",
    "$$p(x_1=[0010], x_2=[010])$$\n",
    "$$p(x_1=[0001], x_2=[100])$$\n"
   ]
  },
  {
   "cell_type": "code",
   "execution_count": 71,
   "metadata": {},
   "outputs": [],
   "source": [
    "def categorize_petal_width(width):\n",
    "    if 0.1<=width<=1.0:\n",
    "        return 'Short'\n",
    "    elif 1.0<width<=1.75:\n",
    "        return 'Medium'\n",
    "    elif 1.75<width<=2.5:\n",
    "        return 'Long'\n",
    "    return None"
   ]
  },
  {
   "cell_type": "code",
   "execution_count": 72,
   "metadata": {},
   "outputs": [],
   "source": [
    "def count_categories(lengths,widths):\n",
    "    length_categories=[]\n",
    "    width_categories=[]\n",
    "\n",
    "    for length in lengths:\n",
    "        length_categories.append(categorize_petal_length(length))\n",
    "\n",
    "    for width in widths:\n",
    "        width_categories.append(categorize_petal_width(width))\n",
    "\n",
    "    combined_counts={}\n",
    "\n",
    "    for i in range(len(length_categories)):\n",
    "        category_pair=(length_categories[i],width_categories[i])\n",
    "        if category_pair in combined_counts:\n",
    "            combined_counts[category_pair]+=1\n",
    "        else:\n",
    "            combined_counts[category_pair]=1\n",
    "\n",
    "    return combined_counts"
   ]
  },
  {
   "cell_type": "code",
   "execution_count": 73,
   "metadata": {
    "run_control": {
     "breakpoint": false
    }
   },
   "outputs": [
    {
     "data": {
      "text/plain": [
       "{('Very Short', 'Short'): 43,\n",
       " ('Short', 'Short'): 13,\n",
       " ('Long', 'Medium'): 23,\n",
       " ('Short', 'Medium'): 22,\n",
       " ('Long', 'Long'): 14,\n",
       " ('Very Long', 'Long'): 32,\n",
       " ('Very Long', 'Medium'): 2}"
      ]
     },
     "execution_count": 73,
     "metadata": {},
     "output_type": "execute_result"
    }
   ],
   "source": [
    "combined_counts = count_categories(datalist[0], datalist[1])\n",
    "combined_counts"
   ]
  },
  {
   "cell_type": "markdown",
   "metadata": {},
   "source": [
    "#### Task9: Normalization\n",
    "----------------\n",
    "Normalize both the attributes (petal length and petal width) such that after normalization their values must lie in the interval [-2, 5]"
   ]
  },
  {
   "cell_type": "code",
   "execution_count": 75,
   "metadata": {},
   "outputs": [],
   "source": [
    "def normalize(data,minval=-2,maxval=5):\n",
    "    old_min=min(data)\n",
    "    old_max=max(data)\n",
    "    \n",
    "    normalized_data = []\n",
    "    \n",
    "    for x in data:\n",
    "        normalized_value = minval + (x - old_min) * (maxval - minval) / (old_max - old_min)\n",
    "        normalized_data.append(normalized_value)\n",
    "\n",
    "    return normalized_data"
   ]
  },
  {
   "cell_type": "code",
   "execution_count": 76,
   "metadata": {
    "run_control": {
     "breakpoint": false
    }
   },
   "outputs": [
    {
     "name": "stdout",
     "output_type": "stream",
     "text": [
      "Normalized Petal Length: [-1.5254237288135595, -1.6440677966101696, -1.4067796610169492, -1.5254237288135595, -1.1694915254237288, -1.5254237288135595, -1.4067796610169492, -1.5254237288135595, -1.4067796610169492, -1.4067796610169492, -1.2881355932203389, -1.5254237288135595, -1.8813559322033897, -1.7627118644067798, -1.4067796610169492, -1.6440677966101696, -1.5254237288135595, -1.1694915254237288, -1.4067796610169492, -1.1694915254237288, -1.4067796610169492, -2.0, -1.1694915254237288, -0.9322033898305087, -1.2881355932203389, -1.2881355932203389, -1.4067796610169492, -1.5254237288135595, -1.2881355932203389, -1.2881355932203389, -1.4067796610169492, -1.4067796610169492, -1.5254237288135595, -1.4067796610169492, -1.7627118644067798, -1.6440677966101696, -1.4067796610169492, -1.6440677966101696, -1.4067796610169492, -1.6440677966101696, -1.6440677966101696, -1.6440677966101696, -1.2881355932203389, -0.9322033898305087, -1.5254237288135595, -1.2881355932203389, -1.5254237288135595, -1.4067796610169492, -1.5254237288135595, 2.389830508474576, 2.1525423728813555, 2.6271186440677967, 1.559322033898305, 2.2711864406779654, 2.1525423728813555, 2.389830508474576, 0.7288135593220333, 2.2711864406779654, 1.4406779661016946, 0.9661016949152539, 1.7966101694915255, 1.559322033898305, 2.389830508474576, 1.0847457627118642, 2.0338983050847466, 2.1525423728813555, 1.6779661016949143, 2.1525423728813555, 1.4406779661016946, 2.508474576271186, 1.559322033898305, 2.6271186440677967, 2.389830508474576, 1.915254237288135, 2.0338983050847466, 2.508474576271186, 2.7457627118644066, 2.1525423728813555, 0.9661016949152539, 1.3220338983050843, 1.203389830508475, 1.4406779661016946, 2.8644067796610155, 2.1525423728813555, 2.1525423728813555, 2.389830508474576, 2.0338983050847466, 1.6779661016949143, 1.559322033898305, 2.0338983050847466, 2.2711864406779654, 1.559322033898305, 0.7288135593220333, 1.7966101694915255, 1.7966101694915255, 1.7966101694915255, 1.915254237288135, 0.3728813559322033, 1.6779661016949143, 3.9322033898305078, 2.8644067796610155, 3.813559322033899, 3.4576271186440666, 3.694915254237288, 4.644067796610169, 2.1525423728813555, 4.288135593220339, 3.694915254237288, 4.050847457627118, 2.8644067796610155, 3.101694915254237, 3.3389830508474576, 2.7457627118644066, 2.8644067796610155, 3.101694915254237, 3.3389830508474576, 4.762711864406779, 5.0, 2.7457627118644066, 3.5762711864406773, 2.6271186440677967, 4.762711864406779, 2.6271186440677967, 3.5762711864406773, 3.9322033898305078, 2.508474576271186, 2.6271186440677967, 3.4576271186440666, 3.694915254237288, 4.050847457627118, 4.40677966101695, 3.4576271186440666, 2.8644067796610155, 3.4576271186440666, 4.050847457627118, 3.4576271186440666, 3.3389830508474576, 2.508474576271186, 3.2203389830508478, 3.4576271186440666, 2.8644067796610155, 2.8644067796610155, 3.813559322033899, 3.5762711864406773, 2.983050847457627, 2.7457627118644066, 2.983050847457627, 3.2203389830508478, 2.8644067796610155]\n",
      "Normalized Petal Width: [-1.7083333333333333, -1.7083333333333333, -1.7083333333333333, -1.7083333333333333, -1.1249999999999998, -1.4166666666666665, -1.7083333333333333, -1.7083333333333333, -2.0, -1.7083333333333333, -1.7083333333333333, -2.0, -2.0, -1.7083333333333333, -1.1249999999999998, -1.1249999999999998, -1.4166666666666665, -1.4166666666666665, -1.4166666666666665, -1.7083333333333333, -1.1249999999999998, -1.7083333333333333, -0.8333333333333333, -1.7083333333333333, -1.7083333333333333, -1.1249999999999998, -1.7083333333333333, -1.7083333333333333, -1.7083333333333333, -1.7083333333333333, -1.1249999999999998, -2.0, -1.7083333333333333, -2.0, -1.7083333333333333, -1.7083333333333333, -2.0, -1.7083333333333333, -1.7083333333333333, -1.4166666666666665, -1.4166666666666665, -1.7083333333333333, -0.5416666666666665, -1.1249999999999998, -1.4166666666666665, -1.7083333333333333, -1.7083333333333333, -1.7083333333333333, -1.7083333333333333, 1.791666666666666, 2.083333333333333, 2.083333333333333, 1.5000000000000004, 2.083333333333333, 1.5000000000000004, 2.375, 0.625, 1.5000000000000004, 1.791666666666666, 0.625, 2.083333333333333, 0.625, 1.791666666666666, 1.5000000000000004, 1.791666666666666, 2.083333333333333, 0.625, 2.083333333333333, 0.916666666666667, 2.958333333333334, 1.5000000000000004, 2.083333333333333, 1.208333333333333, 1.5000000000000004, 1.791666666666666, 1.791666666666666, 2.666666666666667, 2.083333333333333, 0.625, 0.916666666666667, 0.625, 1.208333333333333, 2.375, 2.083333333333333, 2.375, 2.083333333333333, 1.5000000000000004, 1.5000000000000004, 1.5000000000000004, 1.208333333333333, 1.791666666666666, 1.208333333333333, 0.625, 1.5000000000000004, 1.208333333333333, 1.5000000000000004, 1.5000000000000004, 0.916666666666667, 1.5000000000000004, 5.000000000000001, 3.249999999999999, 3.833333333333334, 2.958333333333334, 4.125000000000001, 3.833333333333334, 2.666666666666667, 2.958333333333334, 2.958333333333334, 5.000000000000001, 3.541666666666666, 3.249999999999999, 3.833333333333334, 3.541666666666666, 4.708333333333333, 4.416666666666666, 2.958333333333334, 4.125000000000001, 4.416666666666666, 2.083333333333333, 4.416666666666666, 3.541666666666666, 3.541666666666666, 2.958333333333334, 3.833333333333334, 2.958333333333334, 2.958333333333334, 2.958333333333334, 3.833333333333334, 2.375, 3.249999999999999, 3.541666666666666, 4.125000000000001, 2.083333333333333, 1.791666666666666, 4.416666666666666, 4.708333333333333, 2.958333333333334, 2.958333333333334, 3.833333333333334, 4.708333333333333, 4.416666666666666, 3.249999999999999, 4.416666666666666, 5.000000000000001, 4.416666666666666, 3.249999999999999, 3.541666666666666, 4.416666666666666, 2.958333333333334]\n"
     ]
    }
   ],
   "source": [
    "normalized_length = normalize(datalist[0])\n",
    "normalized_width = normalize(datalist[1])\n",
    "\n",
    "print(\"Normalized Petal Length:\", normalized_length)\n",
    "print(\"Normalized Petal Width:\", normalized_width)\n"
   ]
  },
  {
   "cell_type": "markdown",
   "metadata": {},
   "source": [
    "#### Task10: Class wise mean vector and covariance matrix...\n",
    "Iris dataset have three different classes, now go and compute the class-wise (setosa, versicolor and virginica) mean vector and covariance matrix."
   ]
  },
  {
   "cell_type": "code",
   "execution_count": 82,
   "metadata": {},
   "outputs": [
    {
     "data": {
      "text/html": [
       "<div>\n",
       "<style scoped>\n",
       "    .dataframe tbody tr th:only-of-type {\n",
       "        vertical-align: middle;\n",
       "    }\n",
       "\n",
       "    .dataframe tbody tr th {\n",
       "        vertical-align: top;\n",
       "    }\n",
       "\n",
       "    .dataframe thead th {\n",
       "        text-align: right;\n",
       "    }\n",
       "</style>\n",
       "<table border=\"1\" class=\"dataframe\">\n",
       "  <thead>\n",
       "    <tr style=\"text-align: right;\">\n",
       "      <th></th>\n",
       "      <th>5.1</th>\n",
       "      <th>3.5</th>\n",
       "      <th>1.4</th>\n",
       "      <th>0.2</th>\n",
       "      <th>Iris-setosa</th>\n",
       "    </tr>\n",
       "  </thead>\n",
       "  <tbody>\n",
       "    <tr>\n",
       "      <th>0</th>\n",
       "      <td>4.9</td>\n",
       "      <td>3.0</td>\n",
       "      <td>1.4</td>\n",
       "      <td>0.2</td>\n",
       "      <td>Iris-setosa</td>\n",
       "    </tr>\n",
       "    <tr>\n",
       "      <th>1</th>\n",
       "      <td>4.7</td>\n",
       "      <td>3.2</td>\n",
       "      <td>1.3</td>\n",
       "      <td>0.2</td>\n",
       "      <td>Iris-setosa</td>\n",
       "    </tr>\n",
       "    <tr>\n",
       "      <th>2</th>\n",
       "      <td>4.6</td>\n",
       "      <td>3.1</td>\n",
       "      <td>1.5</td>\n",
       "      <td>0.2</td>\n",
       "      <td>Iris-setosa</td>\n",
       "    </tr>\n",
       "    <tr>\n",
       "      <th>3</th>\n",
       "      <td>5.0</td>\n",
       "      <td>3.6</td>\n",
       "      <td>1.4</td>\n",
       "      <td>0.2</td>\n",
       "      <td>Iris-setosa</td>\n",
       "    </tr>\n",
       "    <tr>\n",
       "      <th>4</th>\n",
       "      <td>5.4</td>\n",
       "      <td>3.9</td>\n",
       "      <td>1.7</td>\n",
       "      <td>0.4</td>\n",
       "      <td>Iris-setosa</td>\n",
       "    </tr>\n",
       "    <tr>\n",
       "      <th>...</th>\n",
       "      <td>...</td>\n",
       "      <td>...</td>\n",
       "      <td>...</td>\n",
       "      <td>...</td>\n",
       "      <td>...</td>\n",
       "    </tr>\n",
       "    <tr>\n",
       "      <th>144</th>\n",
       "      <td>6.7</td>\n",
       "      <td>3.0</td>\n",
       "      <td>5.2</td>\n",
       "      <td>2.3</td>\n",
       "      <td>Iris-virginica</td>\n",
       "    </tr>\n",
       "    <tr>\n",
       "      <th>145</th>\n",
       "      <td>6.3</td>\n",
       "      <td>2.5</td>\n",
       "      <td>5.0</td>\n",
       "      <td>1.9</td>\n",
       "      <td>Iris-virginica</td>\n",
       "    </tr>\n",
       "    <tr>\n",
       "      <th>146</th>\n",
       "      <td>6.5</td>\n",
       "      <td>3.0</td>\n",
       "      <td>5.2</td>\n",
       "      <td>2.0</td>\n",
       "      <td>Iris-virginica</td>\n",
       "    </tr>\n",
       "    <tr>\n",
       "      <th>147</th>\n",
       "      <td>6.2</td>\n",
       "      <td>3.4</td>\n",
       "      <td>5.4</td>\n",
       "      <td>2.3</td>\n",
       "      <td>Iris-virginica</td>\n",
       "    </tr>\n",
       "    <tr>\n",
       "      <th>148</th>\n",
       "      <td>5.9</td>\n",
       "      <td>3.0</td>\n",
       "      <td>5.1</td>\n",
       "      <td>1.8</td>\n",
       "      <td>Iris-virginica</td>\n",
       "    </tr>\n",
       "  </tbody>\n",
       "</table>\n",
       "<p>149 rows × 5 columns</p>\n",
       "</div>"
      ],
      "text/plain": [
       "     5.1  3.5  1.4  0.2     Iris-setosa\n",
       "0    4.9  3.0  1.4  0.2     Iris-setosa\n",
       "1    4.7  3.2  1.3  0.2     Iris-setosa\n",
       "2    4.6  3.1  1.5  0.2     Iris-setosa\n",
       "3    5.0  3.6  1.4  0.2     Iris-setosa\n",
       "4    5.4  3.9  1.7  0.4     Iris-setosa\n",
       "..   ...  ...  ...  ...             ...\n",
       "144  6.7  3.0  5.2  2.3  Iris-virginica\n",
       "145  6.3  2.5  5.0  1.9  Iris-virginica\n",
       "146  6.5  3.0  5.2  2.0  Iris-virginica\n",
       "147  6.2  3.4  5.4  2.3  Iris-virginica\n",
       "148  5.9  3.0  5.1  1.8  Iris-virginica\n",
       "\n",
       "[149 rows x 5 columns]"
      ]
     },
     "execution_count": 82,
     "metadata": {},
     "output_type": "execute_result"
    }
   ],
   "source": [
    "data"
   ]
  },
  {
   "cell_type": "code",
   "execution_count": 86,
   "metadata": {},
   "outputs": [
    {
     "name": "stdout",
     "output_type": "stream",
     "text": [
      "Mean Vector for Setosa: [5.00408163 3.41632653 1.46530612 0.24489796]\n",
      "Covariance Matrix for Setosa:\n",
      " [[0.12664966 0.10222364 0.01660289 0.01085459]\n",
      " [0.10222364 0.14806122 0.01203656 0.0117517 ]\n",
      " [0.01660289 0.01203656 0.03064626 0.0057568 ]\n",
      " [0.01085459 0.0117517  0.0057568  0.01169218]]\n",
      "\n",
      "Mean Vector for Versicolor: [5.936 2.77  4.26  1.326]\n",
      "Covariance Matrix for Versicolor:\n",
      " [[0.26643265 0.08518367 0.18289796 0.05577959]\n",
      " [0.08518367 0.09846939 0.08265306 0.04120408]\n",
      " [0.18289796 0.08265306 0.22081633 0.07310204]\n",
      " [0.05577959 0.04120408 0.07310204 0.03910612]]\n",
      "\n",
      "Mean Vector for Virginica: [6.588 2.974 5.552 2.026]\n",
      "Covariance Matrix for Virginica:\n",
      " [[0.40434286 0.09376327 0.3032898  0.04909388]\n",
      " [0.09376327 0.10400408 0.07137959 0.04762857]\n",
      " [0.3032898  0.07137959 0.30458776 0.04882449]\n",
      " [0.04909388 0.04762857 0.04882449 0.07543265]]\n"
     ]
    }
   ],
   "source": [
    "import pandas as pd\n",
    "import numpy as np\n",
    "\n",
    "data=pd.read_csv('iris.data.txt')\n",
    "data.columns=['SepalLength','SepalWidth','PetalLength','PetalWidth','Species']\n",
    "\n",
    "setosa=data[data['Species']=='Iris-setosa'].iloc[:,:-1]\n",
    "versicolor=data[data['Species']=='Iris-versicolor'].iloc[:,:-1]\n",
    "virginica=data[data['Species']=='Iris-virginica'].iloc[:,:-1]\n",
    "\n",
    "mean_setosa=setosa.mean().values\n",
    "mean_versicolor=versicolor.mean().values\n",
    "mean_virginica=virginica.mean().values\n",
    "\n",
    "cov_setosa=setosa.cov().values\n",
    "cov_versicolor=versicolor.cov().values\n",
    "cov_virginica=virginica.cov().values\n",
    "\n",
    "print(\"Mean Vector for Setosa:\",mean_setosa)\n",
    "print(\"Covariance Matrix for Setosa:\\n\",cov_setosa)\n",
    "print(\"\\nMean Vector for Versicolor:\",mean_versicolor)\n",
    "print(\"Covariance Matrix for Versicolor:\\n\",cov_versicolor)\n",
    "print(\"\\nMean Vector for Virginica:\",mean_virginica)\n",
    "print(\"Covariance Matrix for Virginica:\\n\",cov_virginica)"
   ]
  },
  {
   "cell_type": "markdown",
   "metadata": {},
   "source": [
    "#### Task11: Caclulating the Probability of a flower belonging to a particular class\n",
    "Using above information, lets model each class to be modeled by continuous multivariate Gaussian Random varible. Now we have recorded a flower with following attributes (sepal lenght=4, petal length=6, sepal width=4, sepal length=5.5) in the field, which class it belongs. "
   ]
  },
  {
   "cell_type": "code",
   "execution_count": 95,
   "metadata": {},
   "outputs": [],
   "source": [
    "def multivariate_gaussian_pdf(x,mean,cov):\n",
    "    k=len(mean)\n",
    "    diff=np.array(x)-np.array(mean)\n",
    "    cov_inv=inv(cov)\n",
    "    exponent=-0.5*diff.T.dot(cov_inv).dot(diff)\n",
    "    return (1/sqrt((2*pi)**k*det(cov)))*exp(exponent)"
   ]
  },
  {
   "cell_type": "code",
   "execution_count": 94,
   "metadata": {},
   "outputs": [
    {
     "name": "stdout",
     "output_type": "stream",
     "text": [
      "Probability of belonging to Setosa: 0.000000\n",
      "Probability of belonging to Versicolor: 0.000000\n",
      "Probability of belonging to Virginica: 0.000000\n",
      "The flower most likely belongs to: Virginica\n"
     ]
    }
   ],
   "source": [
    "import numpy as np\n",
    "from numpy.linalg import inv,det\n",
    "from math import sqrt,pi,exp\n",
    "\n",
    "# Flower attributes\n",
    "x=[4,6,4,5.5]\n",
    "\n",
    "# Calculate probabilities\n",
    "p_setosa=multivariate_gaussian_pdf(x,mean_setosa,cov_setosa)\n",
    "p_versicolor=multivariate_gaussian_pdf(x,mean_versicolor,cov_versicolor)\n",
    "p_virginica=multivariate_gaussian_pdf(x,mean_virginica,cov_virginica)\n",
    "\n",
    "print(f\"Probability of belonging to Setosa:{p_setosa}\")\n",
    "print(f\"Probability of belonging to Versicolor:{p_versicolor}\")\n",
    "print(f\"Probability of belonging to Virginica:{p_virginica}\")\n",
    "\n",
    "# Determine the most likely class\n",
    "probabilities={'Setosa':p_setosa,'Versicolor':p_versicolor,'Virginica':p_virginica}\n",
    "most_likely_class=max(probabilities,key=probabilities.get)\n",
    "print(f\"The flower most likely belongs to:{most_likely_class}\")"
   ]
  },
  {
   "cell_type": "markdown",
   "metadata": {},
   "source": [
    "\n",
    "#### Task12:  X is a normally distributed variable with mean μ = 30 and standard deviation σ = 4. Find \n",
    "\n",
    "a) P(x < 40)\n",
    "\n",
    "b) P(x > 21)\n",
    "\n",
    "c) P(30 < x < 35)\n",
    "\n",
    "You can use scipy.stats.norm functions to answer these questions. These problems are contributed by an anonymous source."
   ]
  },
  {
   "cell_type": "code",
   "execution_count": 97,
   "metadata": {},
   "outputs": [
    {
     "name": "stdout",
     "output_type": "stream",
     "text": [
      "P(x < 40) = 0.9937903346742238\n",
      "P(x > 21) = 0.9877755273449553\n",
      "P(30 < x < 35) = 0.39435022633314465\n"
     ]
    }
   ],
   "source": [
    "import scipy.stats as s\n",
    "\n",
    "mean=30\n",
    "std_dev=4\n",
    "\n",
    "# a)\n",
    "p1=s.norm.cdf(40,mean,std_dev)\n",
    "print(f\"P(x < 40) = {p1}\")\n",
    "\n",
    "# b)\n",
    "p2=1-s.norm.cdf(21,mean,std_dev)\n",
    "print(f\"P(x > 21) = {p2}\")\n",
    "\n",
    "# c)\n",
    "p3=s.norm.cdf(35,mean,std_dev)-s.norm.cdf(30,mean,std_dev)\n",
    "print(f\"P(30 < x < 35) = {p3}\")"
   ]
  },
  {
   "cell_type": "markdown",
   "metadata": {},
   "source": [
    "#### Task13: \n",
    "The time taken to assemble a car in a certain plant is a random variable having a normal distribution with a mean of 20 hours and a standard deviation of 2 hours. What is the probability that a car can be assembled at this plant in:\n",
    "\n",
    "a) less than 19.5 hours?\n",
    "\n",
    "b) between 20 and 22 hours?"
   ]
  },
  {
   "cell_type": "code",
   "execution_count": 92,
   "metadata": {},
   "outputs": [
    {
     "name": "stdout",
     "output_type": "stream",
     "text": [
      "Probability of assembling a car in less than 19.5 hours: 0.4012936743170763\n",
      "Probability of assembling a car between 20 and 22 hours: 0.3413447460685429\n"
     ]
    }
   ],
   "source": [
    "import scipy.stats as stats\n",
    "\n",
    "mean=20\n",
    "std_dev=2\n",
    "\n",
    "# a)\n",
    "prob_less_than_19_5=stats.norm.cdf(19.5,loc=mean,scale=std_dev)\n",
    "print(\"Probability of assembling a car in less than 19.5 hours:\",prob_less_than_19_5)\n",
    "\n",
    "# b)\n",
    "prob_between_20_and_22=stats.norm.cdf(22,loc=mean,scale=std_dev)-stats.norm.cdf(20,loc=mean,scale=std_dev)\n",
    "print(\"Probability of assembling a car between 20 and 22 hours:\",prob_between_20_and_22)"
   ]
  },
  {
   "cell_type": "code",
   "execution_count": 90,
   "metadata": {},
   "outputs": [
    {
     "name": "stdout",
     "output_type": "stream",
     "text": [
      "Probability of assembling in less than 19.5 hours: 1.0000\n",
      "Probability of assembling between 20 and 22 hours: 0.0000\n"
     ]
    }
   ],
   "source": [
    "from scipy.stats import norm\n",
    "\n",
    "meanval=20\n",
    "sigma=2\n",
    "\n",
    "# Probability of less than 19.5 hours\n",
    "z_19_5 = (19.5 - mu) / sigma\n",
    "p_less_than_19_5 = norm.cdf(z_19_5)\n",
    "\n",
    "# Probability of between 20 and 22 hours\n",
    "z_20 = (20 - mu) / sigma\n",
    "z_22 = (22 - mu) / sigma\n",
    "p_less_than_22 = norm.cdf(z_22)\n",
    "p_less_than_20 = norm.cdf(z_20)\n",
    "p_between_20_and_22 = p_less_than_22 - p_less_than_20\n",
    "\n",
    "print(f\"Probability of assembling in less than 19.5 hours: {p_less_than_19_5:.4f}\")\n",
    "print(f\"Probability of assembling between 20 and 22 hours: {p_between_20_and_22:.4f}\")\n"
   ]
  },
  {
   "cell_type": "markdown",
   "metadata": {},
   "source": [
    "#### Task14:\n",
    "A manufacturer of metal pistons finds that on average, 12% of his pistons are rejected because they are either oversized or undersized. What is the probability that a batch of 10 pistons will contain\n",
    "\n",
    "(a) no more than 2 rejects?\n",
    "\n",
    "(b) at least 2 rejects?"
   ]
  },
  {
   "cell_type": "code",
   "execution_count": 87,
   "metadata": {},
   "outputs": [],
   "source": [
    "# Binomial coefficient\n",
    "def binomial_coefficient(n, k):\n",
    "    return math.comb(n, k)"
   ]
  },
  {
   "cell_type": "code",
   "execution_count": 88,
   "metadata": {},
   "outputs": [],
   "source": [
    "def binomial_pmf(n,k,p):\n",
    "    return binomial_coefficient(n,k)*(p**k)*((1-p)**(n-k))"
   ]
  },
  {
   "cell_type": "code",
   "execution_count": 89,
   "metadata": {},
   "outputs": [
    {
     "name": "stdout",
     "output_type": "stream",
     "text": [
      "Probability of no more than 2 rejects: 0.8913182062780246\n",
      "Probability of at least 2 rejects: 0.34172496579595857\n"
     ]
    }
   ],
   "source": [
    "import math\n",
    "\n",
    "n = 10\n",
    "p = 0.12\n",
    "\n",
    "# Probability of no more than 2 rejects\n",
    "P_0 = binomial_pmf(n, 0, p)\n",
    "P_1 = binomial_pmf(n, 1, p)\n",
    "P_2 = binomial_pmf(n, 2, p)\n",
    "\n",
    "Q1 = P_0 + P_1 + P_2\n",
    "\n",
    "# Probability of at least 2 rejects\n",
    "P_less_than_2 = P_0 + P_1\n",
    "Q2 = 1 - P_less_than_2\n",
    "\n",
    "print(f\"Probability of no more than 2 rejects: {Q1}\")\n",
    "print(f\"Probability of at least 2 rejects: {Q2}\")\n"
   ]
  },
  {
   "cell_type": "code",
   "execution_count": null,
   "metadata": {},
   "outputs": [],
   "source": []
  }
 ],
 "metadata": {
  "kernelspec": {
   "display_name": "Python 3 (ipykernel)",
   "language": "python",
   "name": "python3"
  },
  "language_info": {
   "codemirror_mode": {
    "name": "ipython",
    "version": 3
   },
   "file_extension": ".py",
   "mimetype": "text/x-python",
   "name": "python",
   "nbconvert_exporter": "python",
   "pygments_lexer": "ipython3",
   "version": "3.11.4"
  }
 },
 "nbformat": 4,
 "nbformat_minor": 1
}
