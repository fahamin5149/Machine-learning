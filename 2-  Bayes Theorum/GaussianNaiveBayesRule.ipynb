{
 "cells": [
  {
   "cell_type": "markdown",
   "metadata": {},
   "source": [
    "## Goal\n",
    "\n",
    "Your goal in this assigment is to implement a Gaussian **Naive** Bayes Classifier.\n"
   ]
  },
  {
   "cell_type": "markdown",
   "metadata": {
    "slideshow": {
     "slide_type": "slide"
    }
   },
   "source": [
    "Naive Bayes Rule \n",
    "==============\n"
   ]
  },
  {
   "cell_type": "markdown",
   "metadata": {},
   "source": [
    "### Instructions\n",
    "- Do not modify the block with test cases.\n",
    "- Do not tailor your solution to only pass the test cases. We will use different data for grading so keep your solution generic.\n",
    "- Passing all the cases means you are in reight direction, but does not ensure 100% marks, there may be some other cases hidden, so carefully read the question statement and implement all the necessory functionality.\n",
    "- <p style=\"color:#ff0000\">Plagiarism of any kind, (including internet) will lead to zero marks.</p>\n",
    "\n",
    "#### Libraries\n",
    "Ther are two additional libraries used which are not included in Anaconda package, nose and seaborn. You can install them using the following commands :\n",
    "```sh\n",
    "conda install -c anaconda nose=1.3.7\n",
    "conda install -c anaconda seaborn=0.7.1\n",
    "```\n",
    "Version of different libraries used are listed below:\n",
    "- Matplotlib **1.5.1**\n",
    "- Pandas **0.18.1**\n",
    "- Numpy **1.11.1**\n",
    "- Scipy **0.17.1**\n",
    "- Seaborn **0.7.1**\n",
    "\n",
    "Code for checking version info is present in cell below.\n",
    "\n",
    "#### Dead Kernal\n",
    "In case kernel does not connect, and shows a dead kernal meggese in read : \n",
    "- Go to Kernal -> Change kernal, and choose any of the available kernels.\n",
    "- Press ctrl + s and close the tab.\n",
    "- Open the notebook again and the kernel will connect. If it still does not connect then go to Kernel -> restart.\n",
    "\n",
    "\n",
    "**Note : ** Accuracies may slightly vary due to randomness in train-text split."
   ]
  },
  {
   "cell_type": "code",
   "execution_count": 1,
   "metadata": {
    "jupyter": {
     "outputs_hidden": false
    },
    "slideshow": {
     "slide_type": "slide"
    }
   },
   "outputs": [
    {
     "name": "stdout",
     "output_type": "stream",
     "text": [
      "%pylab is deprecated, use %matplotlib inline and import the required libraries.\n",
      "Populating the interactive namespace from numpy and matplotlib\n"
     ]
    }
   ],
   "source": [
    "%pylab inline\n",
    "import scipy.stats\n",
    "import pandas as pd\n",
    "from collections import defaultdict\n",
    "import seaborn as sns\n",
    "#many important functions are already written and provided in tools.py \n",
    "# please have a look at these functions....\n",
    "import tools as t\n",
    "\n",
    "\n",
    "plt.style.use('ggplot')\n",
    "matplotlib.rcParams['figure.figsize'] = (10.0, 8.0)\n",
    "%load_ext autoreload \n",
    "%autoreload 2"
   ]
  },
  {
   "cell_type": "code",
   "execution_count": 2,
   "metadata": {
    "jupyter": {
     "outputs_hidden": false
    }
   },
   "outputs": [
    {
     "name": "stdout",
     "output_type": "stream",
     "text": [
      "Matplotlib version :  3.7.1\n",
      "Pandas version :  1.5.3\n",
      "Numpy version :  1.24.3\n",
      "Scipy version :  1.10.1\n",
      "Seaborn version :  0.12.2\n"
     ]
    }
   ],
   "source": [
    "print (\"Matplotlib version : \", matplotlib.__version__)\n",
    "print (\"Pandas version : \", pd.__version__)\n",
    "print (\"Numpy version : \", np.__version__)\n",
    "print (\"Scipy version : \", scipy.__version__)\n",
    "print (\"Seaborn version : \", sns.__version__)"
   ]
  },
  {
   "cell_type": "code",
   "execution_count": 59,
   "metadata": {
    "jupyter": {
     "outputs_hidden": false
    }
   },
   "outputs": [
    {
     "name": "stdout",
     "output_type": "stream",
     "text": [
      "Help on method pdf in module scipy.stats._distn_infrastructure:\n",
      "\n",
      "pdf(x, *args, **kwds) method of scipy.stats._continuous_distns.norm_gen instance\n",
      "    Probability density function at x of the given RV.\n",
      "    \n",
      "    Parameters\n",
      "    ----------\n",
      "    x : array_like\n",
      "        quantiles\n",
      "    arg1, arg2, arg3,... : array_like\n",
      "        The shape parameter(s) for the distribution (see docstring of the\n",
      "        instance object for more information)\n",
      "    loc : array_like, optional\n",
      "        location parameter (default=0)\n",
      "    scale : array_like, optional\n",
      "        scale parameter (default=1)\n",
      "    \n",
      "    Returns\n",
      "    -------\n",
      "    pdf : ndarray\n",
      "        Probability density function evaluated at x\n",
      "\n"
     ]
    }
   ],
   "source": [
    "help(scipy.stats.norm.pdf)"
   ]
  },
  {
   "cell_type": "code",
   "execution_count": 60,
   "metadata": {},
   "outputs": [],
   "source": [
    "def softmax(log_posteriors):\n",
    "    exp_posteriors = np.exp(log_posteriors)\n",
    "    return exp_posteriors / np.sum(exp_posteriors, axis=1, keepdims=True)"
   ]
  },
  {
   "cell_type": "code",
   "execution_count": 3,
   "metadata": {},
   "outputs": [],
   "source": [
    "import numpy as np\n",
    "import pandas as pd\n",
    "\n",
    "class GaussianBayes:\n",
    "    \n",
    "    ''' Implements the Gaussian Bayes For Classification... '''\n",
    "    \n",
    "    def __init__(self):\n",
    "        self.classes = None\n",
    "        self.nclasses = 3\n",
    "        self.means = {}      \n",
    "        self.variances = {}  \n",
    "        self.priors = {}     \n",
    "        \n",
    "    def train(self, X, Y): \n",
    "        ''' Train the multiclass (or Binary) Bayes Rule using the given \n",
    "            X [m x n] data matrix and Y labels matrix'''\n",
    "        \n",
    "        self.classes = np.unique(Y)\n",
    "        self.nclasses = len(self.classes)\n",
    "\n",
    "        # Calculate the prior probabilities for each class\n",
    "        self.priors = {\n",
    "            'Iris-setosa': np.sum(Y == \"Iris-setosa\") / len(Y),\n",
    "            'Iris-versicolor': np.sum(Y == \"Iris-versicolor\") / len(Y),\n",
    "            'Iris-virginica': np.sum(Y == \"Iris-virginica\") / len(Y)\n",
    "        }\n",
    "\n",
    "        # Initialize lists to collect data for each class\n",
    "        setosa_data = []\n",
    "        versicolor_data = []\n",
    "        virginica_data = []\n",
    "\n",
    "        for i in range(len(Y)):\n",
    "            if Y[i] == \"Iris-setosa\":\n",
    "                setosa_data.append(X[i])\n",
    "            elif Y[i] == \"Iris-versicolor\":\n",
    "                versicolor_data.append(X[i])\n",
    "            elif Y[i] == \"Iris-virginica\":\n",
    "                virginica_data.append(X[i])\n",
    "\n",
    "        # Convert lists to numpy arrays\n",
    "        setosa_data = np.array(setosa_data)\n",
    "        versicolor_data = np.array(versicolor_data)\n",
    "        virginica_data = np.array(virginica_data)\n",
    "\n",
    "        # Calculate and store the means for each class\n",
    "        self.means = {\n",
    "            'Iris-setosa': np.mean(setosa_data, axis=0),\n",
    "            'Iris-versicolor': np.mean(versicolor_data, axis=0),\n",
    "            'Iris-virginica': np.mean(virginica_data, axis=0)\n",
    "        }\n",
    "\n",
    "        # Calculate and store the variances for each class\n",
    "        self.variances = {\n",
    "            'Iris-setosa': np.var(setosa_data, axis=0),\n",
    "            'Iris-versicolor': np.var(versicolor_data, axis=0),\n",
    "            'Iris-virginica': np.var(virginica_data, axis=0)\n",
    "        }\n",
    "\n",
    "        # Print the results to verify\n",
    "        #print(self.means)\n",
    "        #print(self.variances)\n",
    "        #print(self.priors)\n",
    "\n",
    "\n",
    "    def test(self, X):\n",
    "        \n",
    "        ''' Run the trained classifiers on the given set of examples \n",
    "            For each example, you should return probability and its assigned class\n",
    "            Input: X of m x d\n",
    "            Output:\n",
    "            pclasses: predicted class of each example\n",
    "            probability: probability of each example falling in that predicted class...\n",
    "        '''\n",
    "        \n",
    "        nexamples, nfeatures = X.shape\n",
    "        res = np.zeros((nexamples, self.nclasses))\n",
    "        pclasses = [0] * nexamples\n",
    "        \n",
    "        # Calculate probabilities for each class\n",
    "        for i in range(nexamples):\n",
    "            probs = []\n",
    "            for cls in self.classes:\n",
    "                prior = self.priors[cls] # disctionary with classes of flower\n",
    "                likelihood = self.calculate_likelihood(X[i], cls)\n",
    "                \n",
    "                #print(\"likelihood: \",likelihood)\n",
    "                \n",
    "                posterior = prior * likelihood\n",
    "                #print(\"posterior: \",posterior)\n",
    "                \n",
    "                probs.append(posterior)\n",
    "                \n",
    "            # Normalize probabilities\n",
    "            \n",
    "            #print(f\"probs: {probs}\")\n",
    "            \n",
    "            total_prob = sum(probs)\n",
    "            #print(f\"total_prob: {total_prob}\")\n",
    "            \n",
    "            normalized_probs = [p / total_prob for p in probs]\n",
    "            \n",
    "            res[i] = normalized_probs\n",
    "            pclasses[i] = self.classes[np.argmax(normalized_probs)]\n",
    "        \n",
    "        return np.array(pclasses), res\n",
    "    \n",
    "    def calculate_likelihood(self, x, cls):\n",
    "        ''' Calculate the likelihood of x given class cls '''\n",
    "        \n",
    "        mean = self.means[cls]\n",
    "        variance = self.variances[cls]\n",
    "        \n",
    "        # Using Gaussian probability density function\n",
    "        exponent = np.exp(-((x - mean) ** 2) / (2 * variance))\n",
    "        likelihood = (1 / np.sqrt(2 * np.pi * variance)) * exponent\n",
    "        \n",
    "        return np.prod(likelihood)\n",
    "\n",
    "    def predict(self, X):\n",
    "        return self.test(X)[0]"
   ]
  },
  {
   "cell_type": "code",
   "execution_count": 4,
   "metadata": {
    "jupyter": {
     "outputs_hidden": false
    },
    "slideshow": {
     "slide_type": "slide"
    }
   },
   "outputs": [
    {
     "name": "stdout",
     "output_type": "stream",
     "text": [
      "       SepalLength  SepalWidth  PetalLength  PetalWidth\n",
      "count   149.000000  149.000000   149.000000  149.000000\n",
      "mean      5.848322    3.051007     3.774497    1.205369\n",
      "std       0.828594    0.433499     1.759651    0.761292\n",
      "min       4.300000    2.000000     1.000000    0.100000\n",
      "25%       5.100000    2.800000     1.600000    0.300000\n",
      "50%       5.800000    3.000000     4.400000    1.300000\n",
      "75%       6.400000    3.300000     5.100000    1.800000\n",
      "max       7.900000    4.400000     6.900000    2.500000\n"
     ]
    }
   ],
   "source": [
    "data=pd.read_csv('./iris.data')\n",
    "data.columns=['SepalLength','SepalWidth','PetalLength','PetalWidth','Class']\n",
    "print (data.describe())"
   ]
  },
  {
   "cell_type": "markdown",
   "metadata": {},
   "source": [
    "#### Get your data in matrix"
   ]
  },
  {
   "cell_type": "code",
   "execution_count": 5,
   "metadata": {
    "jupyter": {
     "outputs_hidden": false
    },
    "slideshow": {
     "slide_type": "slide"
    }
   },
   "outputs": [
    {
     "name": "stdout",
     "output_type": "stream",
     "text": [
      " Data Set Dimensions= (149, 4)  True Class labels dimensions (149,)\n"
     ]
    }
   ],
   "source": [
    "X=np.asarray(data[['SepalLength','SepalWidth','PetalLength','PetalWidth']].dropna())\n",
    "Y=np.asarray(data['Class'].dropna())\n",
    "print (\" Data Set Dimensions=\", X.shape, \" True Class labels dimensions\", Y.shape)"
   ]
  },
  {
   "cell_type": "markdown",
   "metadata": {},
   "source": [
    "#### Let's Plot the Data"
   ]
  },
  {
   "cell_type": "code",
   "execution_count": 98,
   "metadata": {
    "jupyter": {
     "outputs_hidden": false
    },
    "slideshow": {
     "slide_type": "-"
    }
   },
   "outputs": [
    {
     "data": {
      "image/png": "[encoded data removed]",
      "text/plain": [
       "<Figure size 1000x800 with 1 Axes>"
      ]
     },
     "metadata": {},
     "output_type": "display_data"
    }
   ],
   "source": [
    "#Lets plot the Complete data, with its covariance matrix...\n",
    "# Remember seeing is believing\n",
    "featnames=data.columns\n",
    "t.plotCov(X[:,2:],Y,labels=featnames.values[2:4])"
   ]
  },
  {
   "cell_type": "markdown",
   "metadata": {},
   "source": [
    "### Splitting the Data into Training and Testing Sets\n",
    "There must be a validation set but for this case we are using only two sets, training and validation sets..."
   ]
  },
  {
   "cell_type": "code",
   "execution_count": 6,
   "metadata": {
    "jupyter": {
     "outputs_hidden": false
    }
   },
   "outputs": [
    {
     "name": "stdout",
     "output_type": "stream",
     "text": [
      " Training Data Set Dimensions= (104, 4) Training True Class labels dimensions (104,)\n",
      " Test Data Set Dimensions= (45, 4) Test True Class labels dimensions (104,)\n"
     ]
    }
   ],
   "source": [
    "# Split your data into training and test-set... \n",
    "# see the documentation of split_data in tools for further information...\n",
    "Xtrain,Ytrain,Xtest,Ytest=t.split_data(X,Y)\n",
    "\n",
    "print (\" Training Data Set Dimensions=\", Xtrain.shape, \"Training True Class labels dimensions\", Ytrain.shape)\n",
    "print (\" Test Data Set Dimensions=\", Xtest.shape, \"Test True Class labels dimensions\", Ytrain.shape)"
   ]
  },
  {
   "cell_type": "code",
   "execution_count": 100,
   "metadata": {
    "jupyter": {
     "outputs_hidden": false
    },
    "slideshow": {
     "slide_type": "slide"
    }
   },
   "outputs": [
    {
     "data": {
      "image/png": "[encoded data removed]",
      "text/plain": [
       "<Figure size 1000x800 with 1 Axes>"
      ]
     },
     "metadata": {},
     "output_type": "display_data"
    }
   ],
   "source": [
    "#Lets plot the training data...\n",
    "t.plotCov(Xtrain[:,2:],Ytrain, labels=featnames.values[2:4])\n",
    "# so we will be estimating these covariance matrices and means..."
   ]
  },
  {
   "cell_type": "code",
   "execution_count": 101,
   "metadata": {
    "jupyter": {
     "outputs_hidden": false
    },
    "slideshow": {
     "slide_type": "-"
    }
   },
   "outputs": [
    {
     "data": {
      "image/png": "[encoded data removed]",
      "text/plain": [
       "<Figure size 1000x800 with 1 Axes>"
      ]
     },
     "metadata": {},
     "output_type": "display_data"
    }
   ],
   "source": [
    "#Lets plot the test data...\n",
    "t.plotCov(Xtest[:,2:],Ytest,labels=featnames.values[2:4])"
   ]
  },
  {
   "cell_type": "markdown",
   "metadata": {
    "slideshow": {
     "slide_type": "slide"
    }
   },
   "source": [
    "Training Time\n",
    "========\n",
    "Let's train a Gaussian Bayes, first using two attributes.\n",
    "- What Two Attributes to use ? Any Guess..."
   ]
  },
  {
   "cell_type": "code",
   "execution_count": 102,
   "metadata": {
    "jupyter": {
     "outputs_hidden": false
    },
    "slideshow": {
     "slide_type": "slide"
    }
   },
   "outputs": [],
   "source": [
    "# Lets train a Gaussian Bayes Classifier on Petal Length and Width\n",
    "gb=GaussianBayes()\n",
    "gb.train(Xtrain[:,2:],Ytrain)"
   ]
  },
  {
   "cell_type": "code",
   "execution_count": 103,
   "metadata": {
    "jupyter": {
     "outputs_hidden": false
    },
    "slideshow": {
     "slide_type": "slide"
    }
   },
   "outputs": [],
   "source": [
    "#Lets test it on the set of unseen examples...\n",
    "pclasses,res=gb.test(Xtest[:,2:])"
   ]
  },
  {
   "cell_type": "markdown",
   "metadata": {
    "slideshow": {
     "slide_type": "slide"
    }
   },
   "source": [
    "Lets see how good we are doing...\n",
    "=================="
   ]
  },
  {
   "cell_type": "code",
   "execution_count": 104,
   "metadata": {
    "jupyter": {
     "outputs_hidden": false
    },
    "slideshow": {
     "slide_type": "slide"
    }
   },
   "outputs": [
    {
     "name": "stdout",
     "output_type": "stream",
     "text": [
      "[ True  True  True  True  True  True  True  True  True  True  True  True\n",
      "  True  True  True  True False  True  True  True  True  True  True  True\n",
      " False  True  True  True  True  True  True  True  True  True  True  True\n",
      "  True  True False  True  True  True  True  True  True]\n",
      "45\n"
     ]
    }
   ],
   "source": [
    "#Lets see how good we are doing...\n",
    "print (pclasses==Ytest)\n",
    "print (Ytest.shape[0])"
   ]
  },
  {
   "cell_type": "code",
   "execution_count": 105,
   "metadata": {
    "jupyter": {
     "outputs_hidden": false
    },
    "slideshow": {
     "slide_type": "slide"
    }
   },
   "outputs": [
    {
     "name": "stdout",
     "output_type": "stream",
     "text": [
      "42\n",
      "Accuracy =  0.9333333333333333\n"
     ]
    }
   ],
   "source": [
    "# Using Just two attributes, accuracy is \n",
    "print (np.sum(pclasses==Ytest))\n",
    "print (\"Accuracy = \", np.sum(pclasses==Ytest)/float(Ytest.shape[0]))"
   ]
  },
  {
   "cell_type": "code",
   "execution_count": 106,
   "metadata": {
    "jupyter": {
     "outputs_hidden": false
    },
    "slideshow": {
     "slide_type": "slide"
    }
   },
   "outputs": [],
   "source": [
    "# print (\" Plotting the Decision Surface of Training Set... \")\n",
    "# t.plot_decision_regions(Xtrain[:,2:],Ytrain,clf=gb, res=0.02, cycle_marker=True, legend=1)"
   ]
  },
  {
   "cell_type": "markdown",
   "metadata": {},
   "source": [
    "### Test Cases for your classifier"
   ]
  },
  {
   "cell_type": "code",
   "execution_count": 107,
   "metadata": {},
   "outputs": [],
   "source": [
    "# pip install nose"
   ]
  },
  {
   "cell_type": "code",
   "execution_count": 108,
   "metadata": {
    "deletable": false,
    "jupyter": {
     "outputs_hidden": false
    },
    "nbgrader": {
     "checksum": "1554f79f0fa8861fa8257b02c93b79b1",
     "grade": true,
     "grade_id": "nieve_bayes_classifier_two_features",
     "locked": true,
     "points": 5,
     "solution": false
    }
   },
   "outputs": [
    {
     "name": "stdout",
     "output_type": "stream",
     "text": [
      "All cases passed !\n"
     ]
    }
   ],
   "source": [
    "from nose.tools import assert_greater_equal, assert_is_not_none\n",
    "import pandas as pd\n",
    "data=pd.read_csv('./iris.data')\n",
    "data.columns=['SepalLength','SepalWidth','PetalLength','PetalWidth','Class']\n",
    "X=np.asarray(data[['SepalLength','SepalWidth','PetalLength','PetalWidth']].dropna())\n",
    "Y=np.asarray(data['Class'].dropna())\n",
    "\n",
    "data_val = pd.read_csv('./iris_val.data')\n",
    "data_val.columns = ['SepalLength','SepalWidth','PetalLength','PetalWidth','Class']\n",
    "X_val = np.asarray(data_val[['SepalLength','SepalWidth','PetalLength','PetalWidth']].dropna())\n",
    "Y_val = np.asarray(data_val['Class'].dropna())\n",
    "\n",
    "gb_val=GaussianBayes()\n",
    "gb_val.train(X[:,2:],Y)\n",
    "pclasses_val, _ = gb_val.test(X_val[:,2:])\n",
    "acc_val = np.sum(pclasses_val == Y_val) / float(pclasses_val.shape[0])\n",
    "\n",
    "assert_greater_equal(acc_val, 0.90, msg=\"Acc must be greater then 90%\")\n",
    "\n",
    "cls =gb.predict(np.array([2,2]).reshape((1,2)))\n",
    "assert_is_not_none(cls, msg=\"Predict should work for single example\")\n",
    "\n",
    "print (\"All cases passed !\")"
   ]
  },
  {
   "cell_type": "markdown",
   "metadata": {},
   "source": [
    "## Question: What can you conclude from the above decision Region"
   ]
  },
  {
   "cell_type": "markdown",
   "metadata": {},
   "source": [
    "# K-Fold Cross Validation\n",
    "\n",
    "Since our dataset is not too big, to ensure that we are reporting true picture of our classifier, \n",
    "we will have to cross validate and report the mean accuracy across the folds to reflect the true \n",
    "picture of our classifier."
   ]
  },
  {
   "cell_type": "code",
   "execution_count": null,
   "metadata": {
    "jupyter": {
     "outputs_hidden": false
    }
   },
   "outputs": [],
   "source": [
    "# Now lets cross validate, and test the result...\n",
    "nfolds=4\n",
    "folds=t.generate_folds(X,Y,nfolds)\n",
    "\n",
    "#now lets train and test on these folds...\n",
    "totacc=[]\n",
    "for k in range(nfolds):\n",
    "    gb=GaussianBayes()\n",
    "    gb.train(folds[k][0][:,2:],folds[k][1])\n",
    "    pclasses,res=gb.test(folds[k][2][:,2:])\n",
    "    acc=np.sum(pclasses==folds[k][3])/float(folds[k][3].shape[0])\n",
    "    print (\"[Info] Fold {} Accuracy = {}\".format(k+1, acc))\n",
    "    totacc.append(acc)\n",
    "\n",
    "print (totacc, 'Mean Accuracy =', np.mean(totacc))"
   ]
  },
  {
   "cell_type": "markdown",
   "metadata": {
    "slideshow": {
     "slide_type": "slide"
    }
   },
   "source": [
    "\n",
    "Hmm Quite Impressive...\n",
    "--------------------------------"
   ]
  },
  {
   "cell_type": "code",
   "execution_count": null,
   "metadata": {
    "jupyter": {
     "outputs_hidden": false
    },
    "slideshow": {
     "slide_type": "slide"
    }
   },
   "outputs": [],
   "source": [
    "# Lets go and use all the four attributes...\n",
    "gb.train(Xtrain,Ytrain)"
   ]
  },
  {
   "cell_type": "code",
   "execution_count": null,
   "metadata": {
    "jupyter": {
     "outputs_hidden": false
    },
    "slideshow": {
     "slide_type": "slide"
    }
   },
   "outputs": [],
   "source": [
    "pclasses,res=gb.test(Xtest)"
   ]
  },
  {
   "cell_type": "markdown",
   "metadata": {
    "slideshow": {
     "slide_type": "slide"
    }
   },
   "source": [
    "#### Do you expect your Test accuracy to increase or decrease ?"
   ]
  },
  {
   "cell_type": "code",
   "execution_count": null,
   "metadata": {
    "jupyter": {
     "outputs_hidden": false
    },
    "slideshow": {
     "slide_type": "slide"
    }
   },
   "outputs": [],
   "source": [
    "# Using all four attributes, accuracy is \n",
    "print (\"Accuracy = \", np.sum(pclasses==Ytest)/float(Ytest.shape[0]))"
   ]
  },
  {
   "cell_type": "markdown",
   "metadata": {},
   "source": [
    "### Test cases for all features"
   ]
  },
  {
   "cell_type": "code",
   "execution_count": null,
   "metadata": {
    "deletable": false,
    "jupyter": {
     "outputs_hidden": false
    },
    "nbgrader": {
     "checksum": "3abb207db8e6d5ce297b7ee415defa80",
     "grade": true,
     "grade_id": "nieve_bayes_classifier_all_features",
     "locked": true,
     "points": 5,
     "solution": false
    }
   },
   "outputs": [],
   "source": [
    "from nose.tools import assert_greater_equal, assert_is_not_none\n",
    "import pandas as pd\n",
    "data=pd.read_csv('./iris.data')\n",
    "data.columns=['SepalLength','SepalWidth','PetalLength','PetalWidth','Class']\n",
    "X=np.asarray(data[['SepalLength','SepalWidth','PetalLength','PetalWidth']].dropna())\n",
    "Y=np.asarray(data['Class'].dropna())\n",
    "\n",
    "data_val = pd.read_csv('./iris_val.data')\n",
    "data_val.columns = ['SepalLength','SepalWidth','PetalLength','PetalWidth','Class']\n",
    "X_val = np.asarray(data_val[['SepalLength','SepalWidth','PetalLength','PetalWidth']].dropna())\n",
    "Y_val = np.asarray(data_val['Class'].dropna())\n",
    "\n",
    "gb_val=GaussianBayes()\n",
    "gb_val.train(X,Y)\n",
    "pclasses_val, _ = gb_val.test(X_val)\n",
    "acc_val = np.sum(pclasses_val == Y_val) / float(pclasses_val.shape[0])\n",
    "\n",
    "assert_greater_equal(acc_val, 0.90, msg=\"Acc must be greater then 90%\")\n",
    "\n",
    "cls =gb.predict(np.array([2,2,2,2]).reshape((1,4)))\n",
    "assert_is_not_none(cls, msg=\"Predict should work for single example\")\n",
    "\n",
    "print (\"All cases passed !\")"
   ]
  },
  {
   "cell_type": "markdown",
   "metadata": {
    "slideshow": {
     "slide_type": "slide"
    }
   },
   "source": [
    "What can you conclude ?\n",
    "===================="
   ]
  },
  {
   "cell_type": "markdown",
   "metadata": {},
   "source": [
    "## Let's change the features... "
   ]
  },
  {
   "cell_type": "code",
   "execution_count": 109,
   "metadata": {
    "jupyter": {
     "outputs_hidden": false
    },
    "slideshow": {
     "slide_type": "slide"
    }
   },
   "outputs": [
    {
     "name": "stdout",
     "output_type": "stream",
     "text": [
      "Accuracy =  0.8666666666666667\n"
     ]
    }
   ],
   "source": [
    "features=[0, 1]\n",
    "gb.train(Xtrain[:,features],Ytrain)\n",
    "pclasses,res=gb.test(Xtest[:,features])\n",
    "print (\"Accuracy = \", np.sum(pclasses==Ytest)/float(Ytest.shape[0]))"
   ]
  },
  {
   "cell_type": "markdown",
   "metadata": {
    "slideshow": {
     "slide_type": "slide"
    }
   },
   "source": [
    "Remember Features are the important !!\n",
    "======================"
   ]
  },
  {
   "cell_type": "code",
   "execution_count": null,
   "metadata": {
    "jupyter": {
     "outputs_hidden": false
    },
    "slideshow": {
     "slide_type": "slide"
    }
   },
   "outputs": [],
   "source": [
    "t.plot_decision_regions(Xtest[:,features],Ytest,clf=gb, res=0.02, cycle_marker=True, legend=1)"
   ]
  },
  {
   "cell_type": "markdown",
   "metadata": {},
   "source": [
    "## Goal: Find the best pair of features (that gives maximum mean cross-validation accuracy) from all the available pairs for the problem in hand"
   ]
  },
  {
   "cell_type": "code",
   "execution_count": 120,
   "metadata": {
    "jupyter": {
     "outputs_hidden": true
    }
   },
   "outputs": [
    {
     "name": "stdout",
     "output_type": "stream",
     "text": [
      "range(0, 4)\n",
      "0\n",
      "1\n",
      "2\n",
      "3\n",
      "Best feature pair: (2, 3), Maximum Mean Cross-Validation Accuracy: 0.9600\n"
     ]
    }
   ],
   "source": [
    "import numpy as np\n",
    "import pandas as pd\n",
    "from sklearn.base import BaseEstimator, ClassifierMixin\n",
    "from sklearn.model_selection import cross_val_score\n",
    "from sklearn.model_selection import train_test_split\n",
    "\n",
    "class GaussianBayes(BaseEstimator, ClassifierMixin):\n",
    "    ''' Implements the Gaussian Bayes For Classification... '''\n",
    "    \n",
    "    def __init__(self):\n",
    "        self.means = {}\n",
    "        self.variances = {}\n",
    "        self.priors = {}\n",
    "        self.nclasses = 0\n",
    "\n",
    "    def fit(self, X, Y):\n",
    "        ''' Train the multiclass (or Binary) Bayes Rule using the given \n",
    "            X [m x n] data matrix and Y labels matrix'''\n",
    "        \n",
    "        self.classes = np.unique(Y)\n",
    "        self.nclasses = len(self.classes)\n",
    "\n",
    "        # Calculate the prior probabilities for each class\n",
    "        self.priors = {\n",
    "            'Iris-setosa': np.sum(Y == \"Iris-setosa\") / len(Y),\n",
    "            'Iris-versicolor': np.sum(Y == \"Iris-versicolor\") / len(Y),\n",
    "            'Iris-virginica': np.sum(Y == \"Iris-virginica\") / len(Y)\n",
    "        }\n",
    "\n",
    "        # Initialize lists to collect data for each class\n",
    "        setosa_data = []\n",
    "        versicolor_data = []\n",
    "        virginica_data = []\n",
    "\n",
    "        for i in range(len(Y)):\n",
    "            if Y[i] == \"Iris-setosa\":\n",
    "                setosa_data.append(X[i])\n",
    "            elif Y[i] == \"Iris-versicolor\":\n",
    "                versicolor_data.append(X[i])\n",
    "            elif Y[i] == \"Iris-virginica\":\n",
    "                virginica_data.append(X[i])\n",
    "\n",
    "        # Convert lists to numpy arrays\n",
    "        setosa_data = np.array(setosa_data)\n",
    "        versicolor_data = np.array(versicolor_data)\n",
    "        virginica_data = np.array(virginica_data)\n",
    "\n",
    "        # Calculate and store the means for each class\n",
    "        self.means = {\n",
    "            'Iris-setosa': np.mean(setosa_data, axis=0),\n",
    "            'Iris-versicolor': np.mean(versicolor_data, axis=0),\n",
    "            'Iris-virginica': np.mean(virginica_data, axis=0)\n",
    "        }\n",
    "\n",
    "        # Calculate and store the variances for each class\n",
    "        self.variances = {\n",
    "            'Iris-setosa': np.var(setosa_data, axis=0),\n",
    "            'Iris-versicolor': np.var(versicolor_data, axis=0),\n",
    "            'Iris-virginica': np.var(virginica_data, axis=0)\n",
    "        }\n",
    "\n",
    "        # Print the results to verify\n",
    "        #print(self.means)\n",
    "        #print(self.variances)\n",
    "        #print(self.priors)\n",
    "\n",
    "\n",
    "    def predict(self, X):\n",
    "        ''' Run the trained classifiers on the given set of examples '''\n",
    "        pclasses, _ = self.test(X)\n",
    "        return pclasses\n",
    "\n",
    "    def test(self, X):\n",
    "        ''' Run the trained classifiers on the given set of examples \n",
    "            For each example, you should return probability and its assigned class\n",
    "            Input: X of m x d\n",
    "            Output:\n",
    "            pclasses: predicted class of each example\n",
    "            probability: probability of each example falling in that predicted class...\n",
    "        '''\n",
    "        \n",
    "        nexamples, nfeatures = X.shape\n",
    "        res = np.zeros((nexamples, self.nclasses))\n",
    "        pclasses = [0] * nexamples\n",
    "        \n",
    "        for i in range(nexamples):\n",
    "            probs = []\n",
    "            for cls in self.classes:\n",
    "                prior = self.priors[cls]\n",
    "                likelihood = self.calculate_likelihood(X[i], cls)\n",
    "                posterior = prior * likelihood\n",
    "                probs.append(posterior)\n",
    "                \n",
    "            total_prob = sum(probs)\n",
    "            normalized_probs = [p / total_prob for p in probs]\n",
    "            \n",
    "            res[i] = normalized_probs\n",
    "            pclasses[i] = self.classes[np.argmax(normalized_probs)]\n",
    "        \n",
    "        return np.array(pclasses), res\n",
    "    \n",
    "    def calculate_likelihood(self, x, cls):\n",
    "        mean = self.means[cls]\n",
    "        variance = self.variances[cls]\n",
    "        exponent = np.exp(-((x - mean) ** 2) / (2 * variance))\n",
    "        likelihood = (1 / np.sqrt(2 * np.pi * variance)) * exponent\n",
    "        return np.prod(likelihood)\n",
    "\n",
    "def find_best_feature_pair(X, Y):\n",
    "    feature_indices = range(X.shape[1]) #(0,1,2,3)\n",
    "    print(feature_indices)\n",
    "    best_pair = None\n",
    "    best_accuracy = 0\n",
    "    \n",
    "    # Generate all pairs of features\n",
    "    for i in feature_indices:\n",
    "        for j in feature_indices:\n",
    "            if i >= j:  # Avoid duplicate pairs and same feature\n",
    "                continue\n",
    "            \n",
    "            X_pair = X[:, [i, j]]  #select all row from column i and j\n",
    "            #print(f\"X_pair: {X_pair}\")\n",
    "            \n",
    "            gb_model = GaussianBayes()\n",
    "            \n",
    "            # Perform cross-validation directly on X_pair and Y\n",
    "            scores = cross_val_score(gb_model, X_pair, Y, cv=5)  # 5-fold CV\n",
    "            mean_accuracy = np.mean(scores)\n",
    "            \n",
    "            if mean_accuracy > best_accuracy:\n",
    "                best_accuracy = mean_accuracy\n",
    "                best_pair = (i, j)\n",
    "\n",
    "    return best_pair, best_accuracy\n",
    "\n",
    "data = pd.read_csv('./iris.data')\n",
    "data.columns=['SepalLength','SepalWidth','PetalLength','PetalWidth','Class']\n",
    "X = np.asarray(data[['SepalLength','SepalWidth','PetalLength','PetalWidth']].dropna())\n",
    "Y = np.asarray(data['Class'].dropna())\n",
    "\n",
    "best_features, max_accuracy = find_best_feature_pair(X, Y)\n",
    "print(f\"Best feature pair: {best_features}, Maximum Mean Cross-Validation Accuracy: {max_accuracy:.4f}\")"
   ]
  },
  {
   "cell_type": "code",
   "execution_count": null,
   "metadata": {},
   "outputs": [],
   "source": []
  },
  {
   "cell_type": "code",
   "execution_count": null,
   "metadata": {},
   "outputs": [],
   "source": []
  }
 ],
 "metadata": {
  "kernelspec": {
   "display_name": "Python 3 (ipykernel)",
   "language": "python",
   "name": "python3"
  },
  "language_info": {
   "codemirror_mode": {
    "name": "ipython",
    "version": 3
   },
   "file_extension": ".py",
   "mimetype": "text/x-python",
   "name": "python",
   "nbconvert_exporter": "python",
   "pygments_lexer": "ipython3",
   "version": "3.11.4"
  }
 },
 "nbformat": 4,
 "nbformat_minor": 4
}
